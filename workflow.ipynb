{
 "cells": [
  {
   "cell_type": "markdown",
   "metadata": {},
   "source": [
    "# train"
   ]
  },
  {
   "cell_type": "code",
   "execution_count": 2,
   "metadata": {
    "collapsed": true
   },
   "outputs": [],
   "source": [
    "import numpy as np\n",
    "import pandas as pd\n",
    "import json\n",
    "from time import time\n",
    "pd.set_option('display.max_columns', None)"
   ]
  },
  {
   "cell_type": "code",
   "execution_count": 3,
   "metadata": {},
   "outputs": [
    {
     "data": {
      "text/html": [
       "<div>\n",
       "<style>\n",
       "    .dataframe thead tr:only-child th {\n",
       "        text-align: right;\n",
       "    }\n",
       "\n",
       "    .dataframe thead th {\n",
       "        text-align: left;\n",
       "    }\n",
       "\n",
       "    .dataframe tbody tr th {\n",
       "        vertical-align: top;\n",
       "    }\n",
       "</style>\n",
       "<table border=\"1\" class=\"dataframe\">\n",
       "  <thead>\n",
       "    <tr style=\"text-align: right;\">\n",
       "      <th></th>\n",
       "      <th>_id</th>\n",
       "      <th>action</th>\n",
       "      <th>article_button_name</th>\n",
       "      <th>article_category</th>\n",
       "      <th>article_channel</th>\n",
       "      <th>article_channel_class</th>\n",
       "      <th>article_channel_id</th>\n",
       "      <th>article_channel_url</th>\n",
       "      <th>article_collection</th>\n",
       "      <th>article_comment</th>\n",
       "      <th>article_date</th>\n",
       "      <th>article_date_full</th>\n",
       "      <th>article_id</th>\n",
       "      <th>article_is_anonymous</th>\n",
       "      <th>article_is_sold_out</th>\n",
       "      <th>article_is_timeout</th>\n",
       "      <th>article_link</th>\n",
       "      <th>article_link_arr</th>\n",
       "      <th>article_link_name</th>\n",
       "      <th>article_link_nofollow</th>\n",
       "      <th>article_mall</th>\n",
       "      <th>article_mall_domain</th>\n",
       "      <th>article_mall_link</th>\n",
       "      <th>article_price</th>\n",
       "      <th>article_referrals</th>\n",
       "      <th>article_tags</th>\n",
       "      <th>article_taobao_url</th>\n",
       "      <th>article_tese_tags</th>\n",
       "      <th>article_timesort</th>\n",
       "      <th>article_title</th>\n",
       "      <th>article_title_mode</th>\n",
       "      <th>article_unworthy</th>\n",
       "      <th>article_url</th>\n",
       "      <th>article_user_url</th>\n",
       "      <th>article_worthy</th>\n",
       "      <th>article_yh_type</th>\n",
       "      <th>create_date</th>\n",
       "      <th>gtm</th>\n",
       "      <th>is_black_five</th>\n",
       "      <th>mall_more_info</th>\n",
       "      <th>price</th>\n",
       "    </tr>\n",
       "  </thead>\n",
       "  <tbody>\n",
       "    <tr>\n",
       "      <th>0</th>\n",
       "      <td>7521534</td>\n",
       "      <td>buy</td>\n",
       "      <td>去购买</td>\n",
       "      <td>{'category_url': 'http://www.smzdm.com/fenlei/...</td>\n",
       "      <td>国内</td>\n",
       "      <td>z-tag-guonei</td>\n",
       "      <td>3</td>\n",
       "      <td>http://www.smzdm.com/youhui/</td>\n",
       "      <td>45</td>\n",
       "      <td>82</td>\n",
       "      <td>07-11 22:56</td>\n",
       "      <td>2017-07-11 22:56:00.000</td>\n",
       "      <td>7521534</td>\n",
       "      <td>2</td>\n",
       "      <td>NaN</td>\n",
       "      <td>NaN</td>\n",
       "      <td>https://detail.tmall.com/item.htm?id=538505214759</td>\n",
       "      <td>[]</td>\n",
       "      <td>NaN</td>\n",
       "      <td>rel=\"nofollow\"</td>\n",
       "      <td>天猫精选</td>\n",
       "      <td>tmall.com</td>\n",
       "      <td>http://www.smzdm.com/mall/tmall/</td>\n",
       "      <td>199元包邮（需用券）</td>\n",
       "      <td>商家自荐</td>\n",
       "      <td>[{'os_num': 0, 'jy_num': 0, 'url_nicktitle': '...</td>\n",
       "      <td>{'href': 'https://go.smzdm.com/57cd4860f0eb72b...</td>\n",
       "      <td>[{'os_num': 0, 'jy_num': 0, 'url_nicktitle': '...</td>\n",
       "      <td>1499784964</td>\n",
       "      <td>magic eyes 萝莉动漫名器 处女新娘</td>\n",
       "      <td>0</td>\n",
       "      <td>24</td>\n",
       "      <td>http://www.smzdm.com/p/7521534/</td>\n",
       "      <td>NaN</td>\n",
       "      <td>220</td>\n",
       "      <td>youhui</td>\n",
       "      <td>2017-08-11 17:46:53.756</td>\n",
       "      <td>{'object': \"{'name':'magic eyes 萝莉动漫名器 处女新娘','...</td>\n",
       "      <td>0</td>\n",
       "      <td>[]</td>\n",
       "      <td>199.00</td>\n",
       "    </tr>\n",
       "    <tr>\n",
       "      <th>1</th>\n",
       "      <td>7515444</td>\n",
       "      <td>dislike</td>\n",
       "      <td>去购买</td>\n",
       "      <td>{'category_url': 'http://www.smzdm.com/fenlei/...</td>\n",
       "      <td>海淘</td>\n",
       "      <td>z-tag-haitao</td>\n",
       "      <td>3</td>\n",
       "      <td>http://haitao.smzdm.com/</td>\n",
       "      <td>9</td>\n",
       "      <td>1</td>\n",
       "      <td>07-11 15:32</td>\n",
       "      <td>2017-07-11 15:32:00.000</td>\n",
       "      <td>7515444</td>\n",
       "      <td>2</td>\n",
       "      <td>NaN</td>\n",
       "      <td>NaN</td>\n",
       "      <td>https://go.smzdm.com/f1942e10b2bbd903/ca_aa_ht...</td>\n",
       "      <td>[]</td>\n",
       "      <td>NaN</td>\n",
       "      <td>rel=\"nofollow\"</td>\n",
       "      <td>HQhair</td>\n",
       "      <td>hqhair.com</td>\n",
       "      <td>http://www.smzdm.com/mall/hqhair/</td>\n",
       "      <td>买3免1+满40英镑包直邮</td>\n",
       "      <td>商家自荐</td>\n",
       "      <td>[{'os_num': 0, 'jy_num': 0, 'url_nicktitle': '...</td>\n",
       "      <td>{'href': 'https://go.smzdm.com/f1942e10b2bbd90...</td>\n",
       "      <td>[{'os_num': 0, 'jy_num': 0, 'url_nicktitle': '...</td>\n",
       "      <td>1499758324</td>\n",
       "      <td>海淘活动：HQhair 精选 FIRST AID BEAUTY 护肤专场</td>\n",
       "      <td>0</td>\n",
       "      <td>1</td>\n",
       "      <td>http://www.smzdm.com/p/7515444/</td>\n",
       "      <td>NaN</td>\n",
       "      <td>4</td>\n",
       "      <td>huodong</td>\n",
       "      <td>2017-08-11 17:46:55.809</td>\n",
       "      <td>{'object': \"{'name':'海淘活动：HQhair 精选 FIRST AID ...</td>\n",
       "      <td>0</td>\n",
       "      <td>[{'info': '', 'title': '英国', 'icon': 'http://r...</td>\n",
       "      <td>3.00</td>\n",
       "    </tr>\n",
       "    <tr>\n",
       "      <th>2</th>\n",
       "      <td>7512991</td>\n",
       "      <td>dislike</td>\n",
       "      <td>去购买</td>\n",
       "      <td>{'category_url': 'http://www.smzdm.com/fenlei/...</td>\n",
       "      <td>跨境</td>\n",
       "      <td>z-tag-kuajing</td>\n",
       "      <td>3</td>\n",
       "      <td>http://www.smzdm.com/kuajing/</td>\n",
       "      <td>2</td>\n",
       "      <td>2</td>\n",
       "      <td>07-11 15:31</td>\n",
       "      <td>2017-07-11 15:31:00.000</td>\n",
       "      <td>7512991</td>\n",
       "      <td>2</td>\n",
       "      <td>NaN</td>\n",
       "      <td>NaN</td>\n",
       "      <td>https://go.smzdm.com/a44af7f577c0bab2/ca_aa_yh...</td>\n",
       "      <td>[]</td>\n",
       "      <td>NaN</td>\n",
       "      <td>rel=\"nofollow\"</td>\n",
       "      <td>亚马逊海外购</td>\n",
       "      <td>amazon.cn</td>\n",
       "      <td>http://www.smzdm.com/mall/amazon_b/</td>\n",
       "      <td>￥566.47+￥169.94含税直邮（约￥736.41）</td>\n",
       "      <td>商家自荐</td>\n",
       "      <td>[{'os_num': 0, 'jy_num': 0, 'url_nicktitle': '...</td>\n",
       "      <td>{'href': 'https://go.smzdm.com/a44af7f577c0bab...</td>\n",
       "      <td>[{'os_num': 0, 'jy_num': 0, 'url_nicktitle': '...</td>\n",
       "      <td>1499758278</td>\n",
       "      <td>Graco 葛莱 Glider Elite 婴儿摇篮</td>\n",
       "      <td>0</td>\n",
       "      <td>1</td>\n",
       "      <td>http://www.smzdm.com/p/7512991/</td>\n",
       "      <td>NaN</td>\n",
       "      <td>4</td>\n",
       "      <td>youhui</td>\n",
       "      <td>2017-08-11 17:46:55.809</td>\n",
       "      <td>{'object': \"{'name':'Graco 葛莱 Glider Elite 婴儿摇...</td>\n",
       "      <td>0</td>\n",
       "      <td>[]</td>\n",
       "      <td>566.47</td>\n",
       "    </tr>\n",
       "    <tr>\n",
       "      <th>3</th>\n",
       "      <td>7520760</td>\n",
       "      <td>dislike</td>\n",
       "      <td>去购买</td>\n",
       "      <td>{'category_url': 'http://www.smzdm.com/fenlei/...</td>\n",
       "      <td>跨境</td>\n",
       "      <td>z-tag-kuajing</td>\n",
       "      <td>3</td>\n",
       "      <td>http://www.smzdm.com/kuajing/</td>\n",
       "      <td>7</td>\n",
       "      <td>10</td>\n",
       "      <td>07-11 15:39</td>\n",
       "      <td>2017-07-11 15:39:00.000</td>\n",
       "      <td>7520760</td>\n",
       "      <td>0</td>\n",
       "      <td>NaN</td>\n",
       "      <td>NaN</td>\n",
       "      <td>https://go.smzdm.com/b8fc991e8aded30e/ca_aa_yh...</td>\n",
       "      <td>[]</td>\n",
       "      <td>NaN</td>\n",
       "      <td>rel=\"nofollow\"</td>\n",
       "      <td>亚马逊海外购</td>\n",
       "      <td>amazon.cn</td>\n",
       "      <td>http://www.smzdm.com/mall/amazon_b/</td>\n",
       "      <td>￥280.06+ ￥33.34税费（约￥313.4）</td>\n",
       "      <td>日百母婴小小值</td>\n",
       "      <td>[{'os_num': 0, 'jy_num': 0, 'url_nicktitle': '...</td>\n",
       "      <td>{'href': 'https://go.smzdm.com/b8fc991e8aded30...</td>\n",
       "      <td>[{'os_num': 0, 'jy_num': 0, 'url_nicktitle': '...</td>\n",
       "      <td>1499758762</td>\n",
       "      <td>中亚Prime会员：THERMOS 膳魔师 FHI-250DS 儿童保温吸管杯 250ml *2件</td>\n",
       "      <td>0</td>\n",
       "      <td>9</td>\n",
       "      <td>http://www.smzdm.com/p/7520760/</td>\n",
       "      <td>http://zhiyou.smzdm.com/member/5421866207/</td>\n",
       "      <td>2</td>\n",
       "      <td>youhui</td>\n",
       "      <td>2017-08-11 17:46:55.974</td>\n",
       "      <td>{'object': \"{'name':'中亚Prime会员：THERMOS 膳魔师 FHI...</td>\n",
       "      <td>0</td>\n",
       "      <td>[]</td>\n",
       "      <td>280.06</td>\n",
       "    </tr>\n",
       "    <tr>\n",
       "      <th>4</th>\n",
       "      <td>7516050</td>\n",
       "      <td>buy</td>\n",
       "      <td>去购买</td>\n",
       "      <td>{'category_url': 'http://www.smzdm.com/fenlei/...</td>\n",
       "      <td>跨境</td>\n",
       "      <td>z-tag-kuajing</td>\n",
       "      <td>3</td>\n",
       "      <td>http://www.smzdm.com/kuajing/</td>\n",
       "      <td>240</td>\n",
       "      <td>170</td>\n",
       "      <td>07-10 21:29</td>\n",
       "      <td>2017-07-10 21:29:00.000</td>\n",
       "      <td>7516050</td>\n",
       "      <td>0</td>\n",
       "      <td>NaN</td>\n",
       "      <td>NaN</td>\n",
       "      <td>https://go.smzdm.com/e030543a04505c46/ca_aa_yh...</td>\n",
       "      <td>[]</td>\n",
       "      <td>NaN</td>\n",
       "      <td>rel=\"nofollow\"</td>\n",
       "      <td>亚马逊海外购</td>\n",
       "      <td>amazon.cn</td>\n",
       "      <td>http://www.smzdm.com/mall/amazon_b/</td>\n",
       "      <td>￥370.19+￥44.05含税直邮（合￥414.24）</td>\n",
       "      <td>zero_tan</td>\n",
       "      <td>[{'os_num': 0, 'jy_num': 0, 'url_nicktitle': '...</td>\n",
       "      <td>{'href': 'https://go.smzdm.com/e030543a04505c4...</td>\n",
       "      <td>[{'os_num': 0, 'jy_num': 0, 'url_nicktitle': '...</td>\n",
       "      <td>1499693390</td>\n",
       "      <td>中亚Prime会员：PHILIPS 飞利浦 HX8911/04 声波电动牙刷</td>\n",
       "      <td>0</td>\n",
       "      <td>10</td>\n",
       "      <td>http://www.smzdm.com/p/7516050/</td>\n",
       "      <td>http://zhiyou.smzdm.com/member/5988098678/</td>\n",
       "      <td>254</td>\n",
       "      <td>youhui</td>\n",
       "      <td>2017-08-11 17:47:00.526</td>\n",
       "      <td>{'object': \"{'name':'中亚Prime会员：PHILIPS 飞利浦 HX8...</td>\n",
       "      <td>0</td>\n",
       "      <td>[]</td>\n",
       "      <td>370.19</td>\n",
       "    </tr>\n",
       "  </tbody>\n",
       "</table>\n",
       "</div>"
      ],
      "text/plain": [
       "       _id   action article_button_name  \\\n",
       "0  7521534      buy                 去购买   \n",
       "1  7515444  dislike                 去购买   \n",
       "2  7512991  dislike                 去购买   \n",
       "3  7520760  dislike                 去购买   \n",
       "4  7516050      buy                 去购买   \n",
       "\n",
       "                                    article_category article_channel  \\\n",
       "0  {'category_url': 'http://www.smzdm.com/fenlei/...              国内   \n",
       "1  {'category_url': 'http://www.smzdm.com/fenlei/...              海淘   \n",
       "2  {'category_url': 'http://www.smzdm.com/fenlei/...              跨境   \n",
       "3  {'category_url': 'http://www.smzdm.com/fenlei/...              跨境   \n",
       "4  {'category_url': 'http://www.smzdm.com/fenlei/...              跨境   \n",
       "\n",
       "  article_channel_class  article_channel_id            article_channel_url  \\\n",
       "0          z-tag-guonei                   3   http://www.smzdm.com/youhui/   \n",
       "1          z-tag-haitao                   3       http://haitao.smzdm.com/   \n",
       "2         z-tag-kuajing                   3  http://www.smzdm.com/kuajing/   \n",
       "3         z-tag-kuajing                   3  http://www.smzdm.com/kuajing/   \n",
       "4         z-tag-kuajing                   3  http://www.smzdm.com/kuajing/   \n",
       "\n",
       "   article_collection  article_comment article_date        article_date_full  \\\n",
       "0                  45               82  07-11 22:56  2017-07-11 22:56:00.000   \n",
       "1                   9                1  07-11 15:32  2017-07-11 15:32:00.000   \n",
       "2                   2                2  07-11 15:31  2017-07-11 15:31:00.000   \n",
       "3                   7               10  07-11 15:39  2017-07-11 15:39:00.000   \n",
       "4                 240              170  07-10 21:29  2017-07-10 21:29:00.000   \n",
       "\n",
       "   article_id  article_is_anonymous  article_is_sold_out  article_is_timeout  \\\n",
       "0     7521534                     2                  NaN                 NaN   \n",
       "1     7515444                     2                  NaN                 NaN   \n",
       "2     7512991                     2                  NaN                 NaN   \n",
       "3     7520760                     0                  NaN                 NaN   \n",
       "4     7516050                     0                  NaN                 NaN   \n",
       "\n",
       "                                        article_link article_link_arr  \\\n",
       "0  https://detail.tmall.com/item.htm?id=538505214759               []   \n",
       "1  https://go.smzdm.com/f1942e10b2bbd903/ca_aa_ht...               []   \n",
       "2  https://go.smzdm.com/a44af7f577c0bab2/ca_aa_yh...               []   \n",
       "3  https://go.smzdm.com/b8fc991e8aded30e/ca_aa_yh...               []   \n",
       "4  https://go.smzdm.com/e030543a04505c46/ca_aa_yh...               []   \n",
       "\n",
       "  article_link_name article_link_nofollow article_mall article_mall_domain  \\\n",
       "0               NaN        rel=\"nofollow\"         天猫精选           tmall.com   \n",
       "1               NaN        rel=\"nofollow\"       HQhair          hqhair.com   \n",
       "2               NaN        rel=\"nofollow\"       亚马逊海外购           amazon.cn   \n",
       "3               NaN        rel=\"nofollow\"       亚马逊海外购           amazon.cn   \n",
       "4               NaN        rel=\"nofollow\"       亚马逊海外购           amazon.cn   \n",
       "\n",
       "                     article_mall_link                   article_price  \\\n",
       "0     http://www.smzdm.com/mall/tmall/                     199元包邮（需用券）   \n",
       "1    http://www.smzdm.com/mall/hqhair/                   买3免1+满40英镑包直邮   \n",
       "2  http://www.smzdm.com/mall/amazon_b/  ￥566.47+￥169.94含税直邮（约￥736.41）    \n",
       "3  http://www.smzdm.com/mall/amazon_b/      ￥280.06+ ￥33.34税费（约￥313.4）   \n",
       "4  http://www.smzdm.com/mall/amazon_b/    ￥370.19+￥44.05含税直邮（合￥414.24）   \n",
       "\n",
       "  article_referrals                                       article_tags  \\\n",
       "0              商家自荐  [{'os_num': 0, 'jy_num': 0, 'url_nicktitle': '...   \n",
       "1              商家自荐  [{'os_num': 0, 'jy_num': 0, 'url_nicktitle': '...   \n",
       "2              商家自荐  [{'os_num': 0, 'jy_num': 0, 'url_nicktitle': '...   \n",
       "3           日百母婴小小值  [{'os_num': 0, 'jy_num': 0, 'url_nicktitle': '...   \n",
       "4          zero_tan  [{'os_num': 0, 'jy_num': 0, 'url_nicktitle': '...   \n",
       "\n",
       "                                  article_taobao_url  \\\n",
       "0  {'href': 'https://go.smzdm.com/57cd4860f0eb72b...   \n",
       "1  {'href': 'https://go.smzdm.com/f1942e10b2bbd90...   \n",
       "2  {'href': 'https://go.smzdm.com/a44af7f577c0bab...   \n",
       "3  {'href': 'https://go.smzdm.com/b8fc991e8aded30...   \n",
       "4  {'href': 'https://go.smzdm.com/e030543a04505c4...   \n",
       "\n",
       "                                   article_tese_tags  article_timesort  \\\n",
       "0  [{'os_num': 0, 'jy_num': 0, 'url_nicktitle': '...        1499784964   \n",
       "1  [{'os_num': 0, 'jy_num': 0, 'url_nicktitle': '...        1499758324   \n",
       "2  [{'os_num': 0, 'jy_num': 0, 'url_nicktitle': '...        1499758278   \n",
       "3  [{'os_num': 0, 'jy_num': 0, 'url_nicktitle': '...        1499758762   \n",
       "4  [{'os_num': 0, 'jy_num': 0, 'url_nicktitle': '...        1499693390   \n",
       "\n",
       "                                       article_title  article_title_mode  \\\n",
       "0                             magic eyes 萝莉动漫名器 处女新娘                   0   \n",
       "1               海淘活动：HQhair 精选 FIRST AID BEAUTY 护肤专场                   0   \n",
       "2                         Graco 葛莱 Glider Elite 婴儿摇篮                   0   \n",
       "3  中亚Prime会员：THERMOS 膳魔师 FHI-250DS 儿童保温吸管杯 250ml *2件                   0   \n",
       "4             中亚Prime会员：PHILIPS 飞利浦 HX8911/04 声波电动牙刷                   0   \n",
       "\n",
       "   article_unworthy                      article_url  \\\n",
       "0                24  http://www.smzdm.com/p/7521534/   \n",
       "1                 1  http://www.smzdm.com/p/7515444/   \n",
       "2                 1  http://www.smzdm.com/p/7512991/   \n",
       "3                 9  http://www.smzdm.com/p/7520760/   \n",
       "4                10  http://www.smzdm.com/p/7516050/   \n",
       "\n",
       "                             article_user_url  article_worthy article_yh_type  \\\n",
       "0                                         NaN             220          youhui   \n",
       "1                                         NaN               4         huodong   \n",
       "2                                         NaN               4          youhui   \n",
       "3  http://zhiyou.smzdm.com/member/5421866207/               2          youhui   \n",
       "4  http://zhiyou.smzdm.com/member/5988098678/             254          youhui   \n",
       "\n",
       "               create_date                                                gtm  \\\n",
       "0  2017-08-11 17:46:53.756  {'object': \"{'name':'magic eyes 萝莉动漫名器 处女新娘','...   \n",
       "1  2017-08-11 17:46:55.809  {'object': \"{'name':'海淘活动：HQhair 精选 FIRST AID ...   \n",
       "2  2017-08-11 17:46:55.809  {'object': \"{'name':'Graco 葛莱 Glider Elite 婴儿摇...   \n",
       "3  2017-08-11 17:46:55.974  {'object': \"{'name':'中亚Prime会员：THERMOS 膳魔师 FHI...   \n",
       "4  2017-08-11 17:47:00.526  {'object': \"{'name':'中亚Prime会员：PHILIPS 飞利浦 HX8...   \n",
       "\n",
       "   is_black_five                                     mall_more_info   price  \n",
       "0              0                                                 []  199.00  \n",
       "1              0  [{'info': '', 'title': '英国', 'icon': 'http://r...    3.00  \n",
       "2              0                                                 []  566.47  \n",
       "3              0                                                 []  280.06  \n",
       "4              0                                                 []  370.19  "
      ]
     },
     "execution_count": 3,
     "metadata": {},
     "output_type": "execute_result"
    }
   ],
   "source": [
    "training_raw = pd.read_csv('smzdm_jingxuan.csv', encoding='utf-8', index_col=0)\n",
    "training_raw.head()"
   ]
  },
  {
   "cell_type": "code",
   "execution_count": 4,
   "metadata": {},
   "outputs": [
    {
     "data": {
      "text/html": [
       "<div>\n",
       "<style>\n",
       "    .dataframe thead tr:only-child th {\n",
       "        text-align: right;\n",
       "    }\n",
       "\n",
       "    .dataframe thead th {\n",
       "        text-align: left;\n",
       "    }\n",
       "\n",
       "    .dataframe tbody tr th {\n",
       "        vertical-align: top;\n",
       "    }\n",
       "</style>\n",
       "<table border=\"1\" class=\"dataframe\">\n",
       "  <thead>\n",
       "    <tr style=\"text-align: right;\">\n",
       "      <th></th>\n",
       "      <th>article_tags</th>\n",
       "    </tr>\n",
       "  </thead>\n",
       "  <tbody>\n",
       "    <tr>\n",
       "      <th>0</th>\n",
       "      <td>成人向</td>\n",
       "    </tr>\n",
       "    <tr>\n",
       "      <th>1</th>\n",
       "      <td>直邮, 支付宝</td>\n",
       "    </tr>\n",
       "    <tr>\n",
       "      <th>2</th>\n",
       "      <td>全球PrimeDay母婴日百</td>\n",
       "    </tr>\n",
       "    <tr>\n",
       "      <th>3</th>\n",
       "      <td>中亚Prime会员, 拼单</td>\n",
       "    </tr>\n",
       "    <tr>\n",
       "      <th>4</th>\n",
       "      <td>绝对值, 爱美丽</td>\n",
       "    </tr>\n",
       "  </tbody>\n",
       "</table>\n",
       "</div>"
      ],
      "text/plain": [
       "     article_tags\n",
       "0             成人向\n",
       "1         直邮, 支付宝\n",
       "2  全球PrimeDay母婴日百\n",
       "3   中亚Prime会员, 拼单\n",
       "4        绝对值, 爱美丽"
      ]
     },
     "execution_count": 4,
     "metadata": {},
     "output_type": "execute_result"
    }
   ],
   "source": [
    "def extract_tags(tag_str):\n",
    "    tags = json.loads(tag_str.replace(\"'\", \"\\\"\").replace(\": None,\",\": \\\"None\\\",\"))\n",
    "    tags_name = [tag['name'] for tag in tags]\n",
    "    return ', '.join(tags_name)\n",
    "\n",
    "training_raw[['article_tags']].applymap(extract_tags).head()"
   ]
  },
  {
   "cell_type": "code",
   "execution_count": 5,
   "metadata": {
    "collapsed": true
   },
   "outputs": [],
   "source": [
    "def preprocess_data(raw_data):\n",
    "    raw_data.replace(['?'], [None], inplace=True)\n",
    "#     raw_data.dropna(how='all', axis=1, inplace=True)\n",
    "    raw_data.drop(labels=['_id', 'article_id', 'article_url', 'article_price', 'article_link',\n",
    "                          'article_date', 'article_channel_class', 'mall_more_info', 'article_button_name',\n",
    "                          'article_link_name', 'article_category', 'gtm', 'article_tese_tags',\n",
    "                          'article_link_arr', 'article_link_nofollow', 'article_taobao_url',\n",
    "                          'article_user_url'],\n",
    "                  axis=1, inplace=True)\n",
    "    \n",
    "    raw_data['article_worthy'].replace({None: 0}, inplace=True)\n",
    "    raw_data = raw_data.fillna(0)\n",
    "    \n",
    "    raw_data[['article_tags']] = raw_data[['article_tags']].applymap(extract_tags)\n",
    "    \n",
    "    raw_data[['article_worthy', 'article_unworthy', 'article_is_timeout']] = \\\n",
    "        raw_data[['article_worthy', 'article_unworthy', 'article_is_timeout']].apply(pd.to_numeric, errors='coerce')\n",
    "    raw_data[['article_date_full', 'create_date']] = \\\n",
    "        raw_data[['article_date_full', 'create_date']].apply(pd.to_datetime, errors='ignore').astype('int64')\n",
    "        \n",
    "    from sklearn.preprocessing import LabelEncoder\n",
    "    encoder = LabelEncoder()\n",
    "    raw_data['article_mall'] = encoder.fit_transform(raw_data['article_mall'])\n",
    "    raw_data['article_mall_domain'] = encoder.fit_transform(raw_data['article_mall_domain'])\n",
    "    raw_data['article_mall_link'] = encoder.fit_transform(raw_data['article_mall_link'].astype('str'))\n",
    "    raw_data['article_channel'] = encoder.fit_transform(raw_data['article_channel'])\n",
    "    raw_data['article_referrals'] = encoder.fit_transform(raw_data['article_referrals'].astype('str'))\n",
    "    raw_data['article_yh_type'] = encoder.fit_transform(raw_data['article_yh_type'].astype('str'))\n",
    "    raw_data['article_channel_url'] = encoder.fit_transform(raw_data['article_channel_url'])\n",
    "    \n",
    "    from sklearn.preprocessing import StandardScaler\n",
    "    raw_data['article_date_full'] = StandardScaler().fit_transform(raw_data['article_date_full'].values.reshape(-1, 1))\n",
    "    raw_data['create_date'] = StandardScaler().fit_transform(raw_data['create_date'].values.reshape(-1, 1))\n",
    "    raw_data['article_timesort'] = StandardScaler().fit_transform(raw_data['article_timesort'].values.reshape(-1, 1))\n",
    "    \n",
    "    return raw_data"
   ]
  },
  {
   "cell_type": "code",
   "execution_count": 6,
   "metadata": {
    "collapsed": true
   },
   "outputs": [],
   "source": [
    "def process_text(raw_data, vect_title=None, vect_tag=None):\n",
    "    from sklearn.feature_extraction.text import CountVectorizer\n",
    "    if vect_title is None:\n",
    "        vect_title = CountVectorizer(min_df=2)\n",
    "        vect_title.fit(raw_data['article_title'])\n",
    "    if vect_tag is None:\n",
    "        vect_tag = CountVectorizer()\n",
    "        vect_tag.fit(raw_data['article_tags'])\n",
    "    title_feature_matrix = vect_title.transform(raw_data['article_title']).toarray()\n",
    "    tag_feature_matrix = vect_tag.transform(raw_data['article_tags']).toarray()\n",
    "    feature_matrix = raw_data.drop(['article_title', 'article_tags'], axis=1)\n",
    "    sample_data = np.hstack((feature_matrix, title_feature_matrix, tag_feature_matrix))\n",
    "    return sample_data, vect_title, vect_tag"
   ]
  },
  {
   "cell_type": "code",
   "execution_count": 7,
   "metadata": {},
   "outputs": [],
   "source": [
    "df = pd.read_csv('smzdm_jingxuan.csv', encoding='utf-8', index_col=0)\n",
    "df_sample = df.drop(['action'], axis=1)\n",
    "df_target = df['action']"
   ]
  },
  {
   "cell_type": "code",
   "execution_count": 8,
   "metadata": {},
   "outputs": [
    {
     "name": "stderr",
     "output_type": "stream",
     "text": [
      "/Users/dd/anaconda/lib/python3.6/site-packages/sklearn/utils/validation.py:429: DataConversionWarning: Data with input dtype int64 was converted to float64 by StandardScaler.\n",
      "  warnings.warn(msg, _DataConversionWarning)\n"
     ]
    },
    {
     "data": {
      "text/plain": [
       "(445, 569)"
      ]
     },
     "execution_count": 8,
     "metadata": {},
     "output_type": "execute_result"
    }
   ],
   "source": [
    "df_sample = preprocess_data(df_sample)\n",
    "sample_data, vect_title, vect_tag = process_text(df_sample)\n",
    "sample_data.shape"
   ]
  },
  {
   "cell_type": "code",
   "execution_count": 9,
   "metadata": {},
   "outputs": [
    {
     "data": {
      "text/plain": [
       "(445,)"
      ]
     },
     "execution_count": 9,
     "metadata": {},
     "output_type": "execute_result"
    }
   ],
   "source": [
    "sample_target = df_target.replace(to_replace=dict(buy=2, view=1, dislike=0))\n",
    "sample_target.shape"
   ]
  },
  {
   "cell_type": "code",
   "execution_count": 10,
   "metadata": {
    "collapsed": true
   },
   "outputs": [],
   "source": [
    "from sklearn.model_selection import train_test_split, cross_val_score\n",
    "from sklearn.linear_model import LogisticRegression\n",
    "from sklearn.ensemble import GradientBoostingClassifier\n",
    "from sklearn.ensemble import AdaBoostClassifier\n",
    "from sklearn.naive_bayes import GaussianNB\n",
    "from sklearn.svm import SVC\n",
    "from sklearn.tree import DecisionTreeClassifier"
   ]
  },
  {
   "cell_type": "code",
   "execution_count": 25,
   "metadata": {},
   "outputs": [
    {
     "name": "stdout",
     "output_type": "stream",
     "text": [
      "cv score:  0.68398158271\n"
     ]
    }
   ],
   "source": [
    "clf = LogisticRegression()\n",
    "print('cv score: ', cross_val_score(clf, sample_data, sample_target, cv=10).mean())"
   ]
  },
  {
   "cell_type": "code",
   "execution_count": 12,
   "metadata": {},
   "outputs": [
    {
     "name": "stdout",
     "output_type": "stream",
     "text": [
      "cv score:  0.581946430073\n"
     ]
    }
   ],
   "source": [
    "clf = DecisionTreeClassifier(min_samples_split=15)\n",
    "print('cv score: ', cross_val_score(clf, sample_data, sample_target, cv=10).mean())"
   ]
  },
  {
   "cell_type": "code",
   "execution_count": 13,
   "metadata": {},
   "outputs": [
    {
     "name": "stdout",
     "output_type": "stream",
     "text": [
      "cv score:  0.633836515011\n"
     ]
    }
   ],
   "source": [
    "clf = SVC(kernel='rbf')\n",
    "print('cv score: ', cross_val_score(clf, sample_data, sample_target, cv=10).mean())"
   ]
  },
  {
   "cell_type": "code",
   "execution_count": 14,
   "metadata": {},
   "outputs": [
    {
     "name": "stdout",
     "output_type": "stream",
     "text": [
      "cv score:  0.432757968211\n"
     ]
    }
   ],
   "source": [
    "clf = GaussianNB()\n",
    "print('cv score: ', cross_val_score(clf, sample_data, sample_target, cv=10).mean())"
   ]
  },
  {
   "cell_type": "code",
   "execution_count": 15,
   "metadata": {},
   "outputs": [
    {
     "name": "stdout",
     "output_type": "stream",
     "text": [
      "cv score:  0.681563787739\n"
     ]
    }
   ],
   "source": [
    "clf = AdaBoostClassifier(n_estimators=15, learning_rate=0.5)\n",
    "print('cv score: ', cross_val_score(clf, sample_data, sample_target, cv=10).mean())"
   ]
  },
  {
   "cell_type": "code",
   "execution_count": 16,
   "metadata": {},
   "outputs": [
    {
     "name": "stdout",
     "output_type": "stream",
     "text": [
      "cv score:  0.623105710201\n"
     ]
    }
   ],
   "source": [
    "clf = GradientBoostingClassifier(n_estimators=15, learning_rate=0.5)\n",
    "print('cv score: ', cross_val_score(clf, sample_data, sample_target, cv=10).mean())"
   ]
  },
  {
   "cell_type": "code",
   "execution_count": 17,
   "metadata": {},
   "outputs": [
    {
     "name": "stdout",
     "output_type": "stream",
     "text": [
      "search time:  16.165643215179443\n",
      "0.710112359551\n",
      "AdaBoostClassifier(algorithm='SAMME.R', base_estimator=None,\n",
      "          learning_rate=0.70000000000000007, n_estimators=6,\n",
      "          random_state=None)\n"
     ]
    }
   ],
   "source": [
    "from sklearn.model_selection import RandomizedSearchCV\n",
    "search_param = {'n_estimators': np.arange(1, 50, 1), 'learning_rate': np.arange(0.1, 10, 0.1)}\n",
    "t_start = time()\n",
    "clf = RandomizedSearchCV(AdaBoostClassifier(), search_param, cv=10, scoring='accuracy', n_iter=50, random_state=1, n_jobs=-1)\n",
    "clf.fit(sample_data, sample_target)\n",
    "print('search time: ', (time() - t_start))\n",
    "print(clf.best_score_)\n",
    "print(clf.best_estimator_)"
   ]
  },
  {
   "cell_type": "code",
   "execution_count": 117,
   "metadata": {},
   "outputs": [
    {
     "name": "stdout",
     "output_type": "stream",
     "text": [
      "search time:  183.4003040790558\n",
      "0.707865168539\n",
      "GradientBoostingClassifier(criterion='friedman_mse', init=None,\n",
      "              learning_rate=0.1, loss='deviance', max_depth=23,\n",
      "              max_features=None, max_leaf_nodes=None,\n",
      "              min_impurity_split=1e-07, min_samples_leaf=1,\n",
      "              min_samples_split=17, min_weight_fraction_leaf=0.0,\n",
      "              n_estimators=3, presort='auto', random_state=None,\n",
      "              subsample=1.0, verbose=0, warm_start=False)\n"
     ]
    }
   ],
   "source": [
    "t_start = time()\n",
    "search_param = {'n_estimators': range(1, 50, 1),\n",
    "                'max_depth': range(1, 25, 1), 'min_samples_split': range(5, 50, 1),\n",
    "#                 'min_samples_split': range(10, 50, 1), 'min_samples_leaf': range(10, 50, 1),\n",
    "#                 'max_features': range(5, 50, 1),\n",
    "#                 'learning_rate': np.arange(0.1, 10, 0.1)\n",
    "                }\n",
    "clf = RandomizedSearchCV(GradientBoostingClassifier(), search_param, cv=10, scoring='accuracy', n_iter=50, random_state=1, n_jobs=-1)\n",
    "clf.fit(sample_data, sample_target)\n",
    "print('search time: ', (time() - t_start))\n",
    "print(clf.best_score_)\n",
    "print(clf.best_estimator_)"
   ]
  },
  {
   "cell_type": "code",
   "execution_count": 50,
   "metadata": {},
   "outputs": [
    {
     "name": "stdout",
     "output_type": "stream",
     "text": [
      "(356, 569) (356,) (89, 569) (89,)\n"
     ]
    }
   ],
   "source": [
    "X_train, X_test, y_train, y_test = train_test_split(sample_data, sample_target, test_size=0.2, random_state=2017)\n",
    "print(X_train.shape, y_train.shape, X_test.shape, y_test.shape)"
   ]
  },
  {
   "cell_type": "code",
   "execution_count": 110,
   "metadata": {},
   "outputs": [],
   "source": [
    "class Ensemble(object):\n",
    "    def __init__(self, n_folds, stacker, base_models):\n",
    "        self.n_folds = n_folds\n",
    "        self.stacker = stacker\n",
    "        self.base_models = base_models\n",
    "    def fit_predict(self, X, y, T):\n",
    "        X = np.array(X)\n",
    "        y = np.array(y)\n",
    "        T = np.array(T)\n",
    "        folds = KFold(n_splits=self.n_folds, shuffle=True, random_state=2016)\n",
    "        S_train = np.zeros((X.shape[0], len(self.base_models)))\n",
    "        S_test = np.zeros((T.shape[0], len(self.base_models)))\n",
    "        for i, clf in enumerate(self.base_models):\n",
    "            S_test_i = np.zeros((T.shape[0], self.n_folds))\n",
    "            for j, (train_idx, test_idx) in enumerate(folds.split(X)):\n",
    "                X_train = X[train_idx]\n",
    "                y_train = y[train_idx]\n",
    "                X_holdout = X[test_idx]\n",
    "                # y_holdout = y[test_idx]\n",
    "                clf.fit(X_train, y_train)\n",
    "                y_pred = clf.predict(X_holdout)[:]\n",
    "                S_train[test_idx, i] = y_pred\n",
    "                S_test_i[:, j] = clf.predict(T)[:]\n",
    "            S_test[:, i] = S_test_i.mean(1)\n",
    "        self.stacker.fit(S_train, y)\n",
    "        y_pred = self.stacker.predict(S_test)[:]\n",
    "        return y_pred"
   ]
  },
  {
   "cell_type": "code",
   "execution_count": 150,
   "metadata": {},
   "outputs": [
    {
     "name": "stdout",
     "output_type": "stream",
     "text": [
      "auc: 0.797752808988764\n"
     ]
    }
   ],
   "source": [
    "es = Ensemble(5, LogisticRegression(), [LogisticRegression(), DecisionTreeClassifier(min_samples_split=15), SVC(kernel='rbf')])\n",
    "es_pred = es.fit_predict(X_train, y_train, X_test)\n",
    "print('auc: {}'.format(1.0 * sum(es_pred == y_test) / y_test.shape[0]))"
   ]
  },
  {
   "cell_type": "code",
   "execution_count": 127,
   "metadata": {},
   "outputs": [
    {
     "name": "stdout",
     "output_type": "stream",
     "text": [
      "auc: 0.8089887640449438\n"
     ]
    }
   ],
   "source": [
    "from sklearn.ensemble import RandomForestClassifier\n",
    "es = Ensemble(5, LogisticRegression(), [RandomForestClassifier(max_depth=20), DecisionTreeClassifier(min_samples_split=15), SVC(kernel='rbf')])\n",
    "es_pred = es.fit_predict(X_train, y_train, X_test)\n",
    "print('auc: {}'.format(1.0 * sum(es_pred == y_test) / y_test.shape[0]))"
   ]
  },
  {
   "cell_type": "markdown",
   "metadata": {},
   "source": [
    "# predict"
   ]
  },
  {
   "cell_type": "code",
   "execution_count": null,
   "metadata": {},
   "outputs": [],
   "source": [
    "df_predict = pd.read_csv('predict.csv', encoding='utf-8', index_col=0)\n",
    "df_show = df_predict"
   ]
  },
  {
   "cell_type": "code",
   "execution_count": null,
   "metadata": {},
   "outputs": [],
   "source": [
    "df_predict = preprocess_data(df_predict)\n",
    "predict_data, _, _ = process_text(df_predict, vect_title, vect_tag)\n",
    "predict_data.shape"
   ]
  },
  {
   "cell_type": "code",
   "execution_count": null,
   "metadata": {},
   "outputs": [],
   "source": [
    "prediction = clf.predict(predict_data)\n",
    "prediction"
   ]
  },
  {
   "cell_type": "code",
   "execution_count": null,
   "metadata": {},
   "outputs": [],
   "source": [
    "df_show = df_show.drop(labels=['_id', 'article_id', 'article_url', 'article_price', 'article_link',\n",
    "                          'article_date', 'article_channel_class', 'mall_more_info', 'article_button_name',\n",
    "                          'article_link_name', 'article_category', 'gtm', 'article_tese_tags',\n",
    "                          'article_link_arr', 'article_link_nofollow', 'article_taobao_url',\n",
    "                          'article_user_url'], axis=1)\n",
    "df_show = df_show.fillna(0)\n",
    "df_show[['article_tags']] = df_show[['article_tags']].applymap(extract_tags)\n",
    "df_show['predict_action'] = prediction\n",
    "df_show[['predict_action']] = df_show[['predict_action']].replace(to_replace={2:'buy', 1:'view', 0:'dislike'})"
   ]
  },
  {
   "cell_type": "code",
   "execution_count": null,
   "metadata": {},
   "outputs": [],
   "source": [
    "df_show"
   ]
  },
  {
   "cell_type": "code",
   "execution_count": null,
   "metadata": {
    "collapsed": true
   },
   "outputs": [],
   "source": []
  }
 ],
 "metadata": {
  "kernelspec": {
   "display_name": "Python 3",
   "language": "python",
   "name": "python3"
  },
  "language_info": {
   "codemirror_mode": {
    "name": "ipython",
    "version": 3
   },
   "file_extension": ".py",
   "mimetype": "text/x-python",
   "name": "python",
   "nbconvert_exporter": "python",
   "pygments_lexer": "ipython3",
   "version": "3.6.0"
  }
 },
 "nbformat": 4,
 "nbformat_minor": 2
}
