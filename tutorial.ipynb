{
 "cells": [
  {
   "cell_type": "code",
   "execution_count": 1,
   "metadata": {
    "collapsed": true
   },
   "outputs": [],
   "source": [
    "# -*- encoding:utf-8 -*-\n",
    "import pandas as pd\n",
    "import matplotlib.pyplot as plt\n",
    "from numpy import *\n",
    "import seaborn as sb\n",
    "from time import time"
   ]
  },
  {
   "cell_type": "code",
   "execution_count": 2,
   "metadata": {
    "collapsed": true
   },
   "outputs": [],
   "source": [
    "raw_data = pd.read_csv('train.csv', header=0, encoding='utf-8')"
   ]
  },
  {
   "cell_type": "code",
   "execution_count": 3,
   "metadata": {
    "collapsed": false
   },
   "outputs": [
    {
     "data": {
      "text/html": [
       "<div>\n",
       "<style>\n",
       "    .dataframe thead tr:only-child th {\n",
       "        text-align: right;\n",
       "    }\n",
       "\n",
       "    .dataframe thead th {\n",
       "        text-align: left;\n",
       "    }\n",
       "\n",
       "    .dataframe tbody tr th {\n",
       "        vertical-align: top;\n",
       "    }\n",
       "</style>\n",
       "<table border=\"1\" class=\"dataframe\">\n",
       "  <thead>\n",
       "    <tr style=\"text-align: right;\">\n",
       "      <th></th>\n",
       "      <th>_id</th>\n",
       "      <th>article_link_list</th>\n",
       "      <th>article_mall</th>\n",
       "      <th>article_referrals</th>\n",
       "      <th>article_date_full</th>\n",
       "      <th>article_price</th>\n",
       "      <th>article_worthy</th>\n",
       "      <th>data_from</th>\n",
       "      <th>article_is_sold_out</th>\n",
       "      <th>article_id</th>\n",
       "      <th>...</th>\n",
       "      <th>article_channel_class</th>\n",
       "      <th>article_url</th>\n",
       "      <th>article_channel_id</th>\n",
       "      <th>article_channel_note</th>\n",
       "      <th>article_date</th>\n",
       "      <th>article_title</th>\n",
       "      <th>article_collection</th>\n",
       "      <th>article_link_domain</th>\n",
       "      <th>price</th>\n",
       "      <th>action</th>\n",
       "    </tr>\n",
       "  </thead>\n",
       "  <tbody>\n",
       "    <tr>\n",
       "      <th>0</th>\n",
       "      <td>6736692</td>\n",
       "      <td>?</td>\n",
       "      <td>京东</td>\n",
       "      <td>?</td>\n",
       "      <td>2016-12-12 00:09:00</td>\n",
       "      <td>3999元起</td>\n",
       "      <td>167</td>\n",
       "      <td>api</td>\n",
       "      <td>0</td>\n",
       "      <td>6736692</td>\n",
       "      <td>...</td>\n",
       "      <td>z-tag-guonei</td>\n",
       "      <td>http://www.smzdm.com/p/6736692/</td>\n",
       "      <td>3</td>\n",
       "      <td>?</td>\n",
       "      <td>2016-12-12 00:09</td>\n",
       "      <td>MI 小米 MIX 全面屏概念手机</td>\n",
       "      <td>79</td>\n",
       "      <td>jd.com</td>\n",
       "      <td>3999.0</td>\n",
       "      <td>view</td>\n",
       "    </tr>\n",
       "    <tr>\n",
       "      <th>1</th>\n",
       "      <td>6733525</td>\n",
       "      <td>?</td>\n",
       "      <td>京东</td>\n",
       "      <td>予行与行</td>\n",
       "      <td>2016-12-10 17:14:00</td>\n",
       "      <td>49元包邮（双重优惠）</td>\n",
       "      <td>63</td>\n",
       "      <td>api</td>\n",
       "      <td>0</td>\n",
       "      <td>6733525</td>\n",
       "      <td>...</td>\n",
       "      <td>z-tag-guonei</td>\n",
       "      <td>http://www.smzdm.com/p/6733525/</td>\n",
       "      <td>3</td>\n",
       "      <td>?</td>\n",
       "      <td>2016-12-10 17:14</td>\n",
       "      <td>明珠 熟鱼片 100g*6件</td>\n",
       "      <td>62</td>\n",
       "      <td>jd.com</td>\n",
       "      <td>49.0</td>\n",
       "      <td>buy</td>\n",
       "    </tr>\n",
       "    <tr>\n",
       "      <th>2</th>\n",
       "      <td>6731029</td>\n",
       "      <td>?</td>\n",
       "      <td>天猫精选</td>\n",
       "      <td>?</td>\n",
       "      <td>2016-12-10 11:44:00</td>\n",
       "      <td>1829元包邮（99元定金，12.12付尾款，需用券）</td>\n",
       "      <td>409</td>\n",
       "      <td>api</td>\n",
       "      <td>0</td>\n",
       "      <td>6731029</td>\n",
       "      <td>...</td>\n",
       "      <td>z-tag-guonei</td>\n",
       "      <td>http://www.smzdm.com/p/6731029/</td>\n",
       "      <td>3</td>\n",
       "      <td>?</td>\n",
       "      <td>2016-12-10 11:44</td>\n",
       "      <td>双12预售：kai 贝印 shun旬刀纪念套刀（旬Classic中华菜刀DM-0712+水果...</td>\n",
       "      <td>121</td>\n",
       "      <td>tmall.com</td>\n",
       "      <td>1829.0</td>\n",
       "      <td>dislike</td>\n",
       "    </tr>\n",
       "    <tr>\n",
       "      <th>3</th>\n",
       "      <td>6731102</td>\n",
       "      <td>?</td>\n",
       "      <td>美国亚马逊</td>\n",
       "      <td>No2水晶</td>\n",
       "      <td>2016-12-09 20:22:00</td>\n",
       "      <td>$129.99+$21.15含税直邮（约￥1037）</td>\n",
       "      <td>36</td>\n",
       "      <td>api</td>\n",
       "      <td>0</td>\n",
       "      <td>6731102</td>\n",
       "      <td>...</td>\n",
       "      <td>z-tag-haitao</td>\n",
       "      <td>http://www.smzdm.com/p/6731102/</td>\n",
       "      <td>3</td>\n",
       "      <td>?</td>\n",
       "      <td>2016-12-09 20:22</td>\n",
       "      <td>SAMSUNG 三星 Gear Fit 2 智能手环</td>\n",
       "      <td>29</td>\n",
       "      <td>amazon.com</td>\n",
       "      <td>1037.0</td>\n",
       "      <td>dislike</td>\n",
       "    </tr>\n",
       "    <tr>\n",
       "      <th>4</th>\n",
       "      <td>6730703</td>\n",
       "      <td>?</td>\n",
       "      <td>京东</td>\n",
       "      <td>水的颜色</td>\n",
       "      <td>2016-12-09 19:10:00</td>\n",
       "      <td>3890元包邮（3990-100）</td>\n",
       "      <td>30</td>\n",
       "      <td>api</td>\n",
       "      <td>0</td>\n",
       "      <td>6730703</td>\n",
       "      <td>...</td>\n",
       "      <td>z-tag-guonei</td>\n",
       "      <td>http://www.smzdm.com/p/6730703/</td>\n",
       "      <td>3</td>\n",
       "      <td>?</td>\n",
       "      <td>2016-12-09 19:10</td>\n",
       "      <td>Delonghi 德龙 ESAM2200.S 全自动咖啡机</td>\n",
       "      <td>37</td>\n",
       "      <td>jd.com</td>\n",
       "      <td>3890.0</td>\n",
       "      <td>dislike</td>\n",
       "    </tr>\n",
       "  </tbody>\n",
       "</table>\n",
       "<p>5 rows × 40 columns</p>\n",
       "</div>"
      ],
      "text/plain": [
       "       _id article_link_list article_mall article_referrals  \\\n",
       "0  6736692                 ?           京东                 ?   \n",
       "1  6733525                 ?           京东              予行与行   \n",
       "2  6731029                 ?         天猫精选                 ?   \n",
       "3  6731102                 ?        美国亚马逊             No2水晶   \n",
       "4  6730703                 ?           京东              水的颜色   \n",
       "\n",
       "     article_date_full                article_price article_worthy data_from  \\\n",
       "0  2016-12-12 00:09:00                       3999元起            167       api   \n",
       "1  2016-12-10 17:14:00                  49元包邮（双重优惠）             63       api   \n",
       "2  2016-12-10 11:44:00  1829元包邮（99元定金，12.12付尾款，需用券）            409       api   \n",
       "3  2016-12-09 20:22:00   $129.99+$21.15含税直邮（约￥1037）             36       api   \n",
       "4  2016-12-09 19:10:00            3890元包邮（3990-100）             30       api   \n",
       "\n",
       "  article_is_sold_out  article_id   ...    article_channel_class  \\\n",
       "0                   0     6736692   ...             z-tag-guonei   \n",
       "1                   0     6733525   ...             z-tag-guonei   \n",
       "2                   0     6731029   ...             z-tag-guonei   \n",
       "3                   0     6731102   ...             z-tag-haitao   \n",
       "4                   0     6730703   ...             z-tag-guonei   \n",
       "\n",
       "                       article_url  article_channel_id article_channel_note  \\\n",
       "0  http://www.smzdm.com/p/6736692/                   3                    ?   \n",
       "1  http://www.smzdm.com/p/6733525/                   3                    ?   \n",
       "2  http://www.smzdm.com/p/6731029/                   3                    ?   \n",
       "3  http://www.smzdm.com/p/6731102/                   3                    ?   \n",
       "4  http://www.smzdm.com/p/6730703/                   3                    ?   \n",
       "\n",
       "       article_date                                      article_title  \\\n",
       "0  2016-12-12 00:09                                  MI 小米 MIX 全面屏概念手机   \n",
       "1  2016-12-10 17:14                                     明珠 熟鱼片 100g*6件   \n",
       "2  2016-12-10 11:44  双12预售：kai 贝印 shun旬刀纪念套刀（旬Classic中华菜刀DM-0712+水果...   \n",
       "3  2016-12-09 20:22                         SAMSUNG 三星 Gear Fit 2 智能手环   \n",
       "4  2016-12-09 19:10                      Delonghi 德龙 ESAM2200.S 全自动咖啡机   \n",
       "\n",
       "  article_collection article_link_domain   price   action  \n",
       "0                 79              jd.com  3999.0     view  \n",
       "1                 62              jd.com    49.0      buy  \n",
       "2                121           tmall.com  1829.0  dislike  \n",
       "3                 29          amazon.com  1037.0  dislike  \n",
       "4                 37              jd.com  3890.0  dislike  \n",
       "\n",
       "[5 rows x 40 columns]"
      ]
     },
     "execution_count": 3,
     "metadata": {},
     "output_type": "execute_result"
    }
   ],
   "source": [
    "raw_data.head()"
   ]
  },
  {
   "cell_type": "code",
   "execution_count": 4,
   "metadata": {
    "collapsed": true
   },
   "outputs": [],
   "source": [
    "raw_data.replace(['?'], [None], inplace=True)# weka-like-csv用'?'代表缺失数据，还原回none\n",
    "raw_data.dropna(how='all', axis=1, inplace=True)  # drop columns which all the items are none\n",
    "raw_data.drop(labels=['_id', 'article_id', 'article_referrals', 'article_url', 'article_price', 'article_link',\n",
    "                      'article_mall_url', 'article_date', 'article_channel_class', 'taobao_url', 'article_channel_note',\n",
    "                      'article_stock_note', 'article_link_name', 'link_nofollow'],\n",
    "              axis=1, inplace=True)  # drop some columns"
   ]
  },
  {
   "cell_type": "code",
   "execution_count": 5,
   "metadata": {
    "collapsed": false
   },
   "outputs": [
    {
     "data": {
      "text/html": [
       "<div>\n",
       "<style>\n",
       "    .dataframe thead tr:only-child th {\n",
       "        text-align: right;\n",
       "    }\n",
       "\n",
       "    .dataframe thead th {\n",
       "        text-align: left;\n",
       "    }\n",
       "\n",
       "    .dataframe tbody tr th {\n",
       "        vertical-align: top;\n",
       "    }\n",
       "</style>\n",
       "<table border=\"1\" class=\"dataframe\">\n",
       "  <thead>\n",
       "    <tr style=\"text-align: right;\">\n",
       "      <th></th>\n",
       "      <th>article_mall</th>\n",
       "      <th>article_date_full</th>\n",
       "      <th>article_worthy</th>\n",
       "      <th>data_from</th>\n",
       "      <th>article_is_sold_out</th>\n",
       "      <th>article_channel</th>\n",
       "      <th>article_comment</th>\n",
       "      <th>article_unworthy</th>\n",
       "      <th>article_author</th>\n",
       "      <th>article_item_title_mode</th>\n",
       "      <th>...</th>\n",
       "      <th>top_category</th>\n",
       "      <th>create_date</th>\n",
       "      <th>article_channel_url</th>\n",
       "      <th>article_is_timeout</th>\n",
       "      <th>article_channel_id</th>\n",
       "      <th>article_title</th>\n",
       "      <th>article_collection</th>\n",
       "      <th>article_link_domain</th>\n",
       "      <th>price</th>\n",
       "      <th>action</th>\n",
       "    </tr>\n",
       "  </thead>\n",
       "  <tbody>\n",
       "    <tr>\n",
       "      <th>0</th>\n",
       "      <td>京东</td>\n",
       "      <td>2016-12-12 00:09:00</td>\n",
       "      <td>167</td>\n",
       "      <td>api</td>\n",
       "      <td>0</td>\n",
       "      <td>国内</td>\n",
       "      <td>209</td>\n",
       "      <td>624</td>\n",
       "      <td>761</td>\n",
       "      <td>0</td>\n",
       "      <td>...</td>\n",
       "      <td>电脑数码</td>\n",
       "      <td>2017-01-22 03:39:55</td>\n",
       "      <td>http://www.smzdm.com/youhui/</td>\n",
       "      <td>0</td>\n",
       "      <td>3</td>\n",
       "      <td>MI 小米 MIX 全面屏概念手机</td>\n",
       "      <td>79</td>\n",
       "      <td>jd.com</td>\n",
       "      <td>3999.0</td>\n",
       "      <td>view</td>\n",
       "    </tr>\n",
       "    <tr>\n",
       "      <th>1</th>\n",
       "      <td>京东</td>\n",
       "      <td>2016-12-10 17:14:00</td>\n",
       "      <td>63</td>\n",
       "      <td>api</td>\n",
       "      <td>0</td>\n",
       "      <td>国内</td>\n",
       "      <td>96</td>\n",
       "      <td>9</td>\n",
       "      <td>729</td>\n",
       "      <td>0</td>\n",
       "      <td>...</td>\n",
       "      <td>食品保健</td>\n",
       "      <td>2017-01-22 03:40:37</td>\n",
       "      <td>http://www.smzdm.com/youhui/</td>\n",
       "      <td>0</td>\n",
       "      <td>3</td>\n",
       "      <td>明珠 熟鱼片 100g*6件</td>\n",
       "      <td>62</td>\n",
       "      <td>jd.com</td>\n",
       "      <td>49.0</td>\n",
       "      <td>buy</td>\n",
       "    </tr>\n",
       "    <tr>\n",
       "      <th>2</th>\n",
       "      <td>天猫精选</td>\n",
       "      <td>2016-12-10 11:44:00</td>\n",
       "      <td>409</td>\n",
       "      <td>api</td>\n",
       "      <td>0</td>\n",
       "      <td>国内</td>\n",
       "      <td>165</td>\n",
       "      <td>10</td>\n",
       "      <td>870</td>\n",
       "      <td>0</td>\n",
       "      <td>...</td>\n",
       "      <td>日用百货</td>\n",
       "      <td>2017-01-22 03:40:50</td>\n",
       "      <td>http://www.smzdm.com/youhui/</td>\n",
       "      <td>0</td>\n",
       "      <td>3</td>\n",
       "      <td>双12预售：kai 贝印 shun旬刀纪念套刀（旬Classic中华菜刀DM-0712+水果...</td>\n",
       "      <td>121</td>\n",
       "      <td>tmall.com</td>\n",
       "      <td>1829.0</td>\n",
       "      <td>dislike</td>\n",
       "    </tr>\n",
       "    <tr>\n",
       "      <th>3</th>\n",
       "      <td>美国亚马逊</td>\n",
       "      <td>2016-12-09 20:22:00</td>\n",
       "      <td>36</td>\n",
       "      <td>api</td>\n",
       "      <td>0</td>\n",
       "      <td>海淘</td>\n",
       "      <td>65</td>\n",
       "      <td>108</td>\n",
       "      <td>731</td>\n",
       "      <td>0</td>\n",
       "      <td>...</td>\n",
       "      <td>电脑数码</td>\n",
       "      <td>2017-01-22 03:41:03</td>\n",
       "      <td>http://haitao.smzdm.com/</td>\n",
       "      <td>0</td>\n",
       "      <td>3</td>\n",
       "      <td>SAMSUNG 三星 Gear Fit 2 智能手环</td>\n",
       "      <td>29</td>\n",
       "      <td>amazon.com</td>\n",
       "      <td>1037.0</td>\n",
       "      <td>dislike</td>\n",
       "    </tr>\n",
       "    <tr>\n",
       "      <th>4</th>\n",
       "      <td>京东</td>\n",
       "      <td>2016-12-09 19:10:00</td>\n",
       "      <td>30</td>\n",
       "      <td>api</td>\n",
       "      <td>0</td>\n",
       "      <td>国内</td>\n",
       "      <td>29</td>\n",
       "      <td>11</td>\n",
       "      <td>293</td>\n",
       "      <td>0</td>\n",
       "      <td>...</td>\n",
       "      <td>家用电器</td>\n",
       "      <td>2017-01-22 03:41:10</td>\n",
       "      <td>http://www.smzdm.com/youhui/</td>\n",
       "      <td>0</td>\n",
       "      <td>3</td>\n",
       "      <td>Delonghi 德龙 ESAM2200.S 全自动咖啡机</td>\n",
       "      <td>37</td>\n",
       "      <td>jd.com</td>\n",
       "      <td>3890.0</td>\n",
       "      <td>dislike</td>\n",
       "    </tr>\n",
       "  </tbody>\n",
       "</table>\n",
       "<p>5 rows × 21 columns</p>\n",
       "</div>"
      ],
      "text/plain": [
       "  article_mall    article_date_full article_worthy data_from  \\\n",
       "0           京东  2016-12-12 00:09:00            167       api   \n",
       "1           京东  2016-12-10 17:14:00             63       api   \n",
       "2         天猫精选  2016-12-10 11:44:00            409       api   \n",
       "3        美国亚马逊  2016-12-09 20:22:00             36       api   \n",
       "4           京东  2016-12-09 19:10:00             30       api   \n",
       "\n",
       "  article_is_sold_out article_channel  article_comment article_unworthy  \\\n",
       "0                   0              国内              209              624   \n",
       "1                   0              国内               96                9   \n",
       "2                   0              国内              165               10   \n",
       "3                   0              海淘               65              108   \n",
       "4                   0              国内               29               11   \n",
       "\n",
       "   article_author article_item_title_mode   ...     top_category  \\\n",
       "0             761                       0   ...             电脑数码   \n",
       "1             729                       0   ...             食品保健   \n",
       "2             870                       0   ...             日用百货   \n",
       "3             731                       0   ...             电脑数码   \n",
       "4             293                       0   ...             家用电器   \n",
       "\n",
       "           create_date           article_channel_url article_is_timeout  \\\n",
       "0  2017-01-22 03:39:55  http://www.smzdm.com/youhui/                  0   \n",
       "1  2017-01-22 03:40:37  http://www.smzdm.com/youhui/                  0   \n",
       "2  2017-01-22 03:40:50  http://www.smzdm.com/youhui/                  0   \n",
       "3  2017-01-22 03:41:03      http://haitao.smzdm.com/                  0   \n",
       "4  2017-01-22 03:41:10  http://www.smzdm.com/youhui/                  0   \n",
       "\n",
       "  article_channel_id                                      article_title  \\\n",
       "0                  3                                  MI 小米 MIX 全面屏概念手机   \n",
       "1                  3                                     明珠 熟鱼片 100g*6件   \n",
       "2                  3  双12预售：kai 贝印 shun旬刀纪念套刀（旬Classic中华菜刀DM-0712+水果...   \n",
       "3                  3                         SAMSUNG 三星 Gear Fit 2 智能手环   \n",
       "4                  3                      Delonghi 德龙 ESAM2200.S 全自动咖啡机   \n",
       "\n",
       "  article_collection  article_link_domain   price   action  \n",
       "0                 79               jd.com  3999.0     view  \n",
       "1                 62               jd.com    49.0      buy  \n",
       "2                121            tmall.com  1829.0  dislike  \n",
       "3                 29           amazon.com  1037.0  dislike  \n",
       "4                 37               jd.com  3890.0  dislike  \n",
       "\n",
       "[5 rows x 21 columns]"
      ]
     },
     "execution_count": 5,
     "metadata": {},
     "output_type": "execute_result"
    }
   ],
   "source": [
    "raw_data.head()"
   ]
  },
  {
   "cell_type": "code",
   "execution_count": 6,
   "metadata": {
    "collapsed": false
   },
   "outputs": [],
   "source": [
    "raw_data['action'].replace(to_replace=dict(buy=2, view=1, dislike=0), inplace=True)\n",
    "raw_data['article_worthy'].replace({None: 0}, inplace=True)\n",
    "raw_data = raw_data.fillna(0)"
   ]
  },
  {
   "cell_type": "code",
   "execution_count": 7,
   "metadata": {
    "collapsed": false
   },
   "outputs": [
    {
     "data": {
      "text/html": [
       "<div>\n",
       "<style>\n",
       "    .dataframe thead tr:only-child th {\n",
       "        text-align: right;\n",
       "    }\n",
       "\n",
       "    .dataframe thead th {\n",
       "        text-align: left;\n",
       "    }\n",
       "\n",
       "    .dataframe tbody tr th {\n",
       "        vertical-align: top;\n",
       "    }\n",
       "</style>\n",
       "<table border=\"1\" class=\"dataframe\">\n",
       "  <thead>\n",
       "    <tr style=\"text-align: right;\">\n",
       "      <th></th>\n",
       "      <th>article_mall</th>\n",
       "      <th>article_date_full</th>\n",
       "      <th>article_worthy</th>\n",
       "      <th>data_from</th>\n",
       "      <th>article_is_sold_out</th>\n",
       "      <th>article_channel</th>\n",
       "      <th>article_comment</th>\n",
       "      <th>article_unworthy</th>\n",
       "      <th>article_author</th>\n",
       "      <th>article_item_title_mode</th>\n",
       "      <th>...</th>\n",
       "      <th>top_category</th>\n",
       "      <th>create_date</th>\n",
       "      <th>article_channel_url</th>\n",
       "      <th>article_is_timeout</th>\n",
       "      <th>article_channel_id</th>\n",
       "      <th>article_title</th>\n",
       "      <th>article_collection</th>\n",
       "      <th>article_link_domain</th>\n",
       "      <th>price</th>\n",
       "      <th>action</th>\n",
       "    </tr>\n",
       "  </thead>\n",
       "  <tbody>\n",
       "    <tr>\n",
       "      <th>0</th>\n",
       "      <td>京东</td>\n",
       "      <td>2016-12-12 00:09:00</td>\n",
       "      <td>167</td>\n",
       "      <td>api</td>\n",
       "      <td>0</td>\n",
       "      <td>国内</td>\n",
       "      <td>209</td>\n",
       "      <td>624</td>\n",
       "      <td>761</td>\n",
       "      <td>0</td>\n",
       "      <td>...</td>\n",
       "      <td>电脑数码</td>\n",
       "      <td>2017-01-22 03:39:55</td>\n",
       "      <td>http://www.smzdm.com/youhui/</td>\n",
       "      <td>0</td>\n",
       "      <td>3</td>\n",
       "      <td>MI 小米 MIX 全面屏概念手机</td>\n",
       "      <td>79</td>\n",
       "      <td>jd.com</td>\n",
       "      <td>3999.0</td>\n",
       "      <td>1</td>\n",
       "    </tr>\n",
       "    <tr>\n",
       "      <th>1</th>\n",
       "      <td>京东</td>\n",
       "      <td>2016-12-10 17:14:00</td>\n",
       "      <td>63</td>\n",
       "      <td>api</td>\n",
       "      <td>0</td>\n",
       "      <td>国内</td>\n",
       "      <td>96</td>\n",
       "      <td>9</td>\n",
       "      <td>729</td>\n",
       "      <td>0</td>\n",
       "      <td>...</td>\n",
       "      <td>食品保健</td>\n",
       "      <td>2017-01-22 03:40:37</td>\n",
       "      <td>http://www.smzdm.com/youhui/</td>\n",
       "      <td>0</td>\n",
       "      <td>3</td>\n",
       "      <td>明珠 熟鱼片 100g*6件</td>\n",
       "      <td>62</td>\n",
       "      <td>jd.com</td>\n",
       "      <td>49.0</td>\n",
       "      <td>2</td>\n",
       "    </tr>\n",
       "    <tr>\n",
       "      <th>2</th>\n",
       "      <td>天猫精选</td>\n",
       "      <td>2016-12-10 11:44:00</td>\n",
       "      <td>409</td>\n",
       "      <td>api</td>\n",
       "      <td>0</td>\n",
       "      <td>国内</td>\n",
       "      <td>165</td>\n",
       "      <td>10</td>\n",
       "      <td>870</td>\n",
       "      <td>0</td>\n",
       "      <td>...</td>\n",
       "      <td>日用百货</td>\n",
       "      <td>2017-01-22 03:40:50</td>\n",
       "      <td>http://www.smzdm.com/youhui/</td>\n",
       "      <td>0</td>\n",
       "      <td>3</td>\n",
       "      <td>双12预售：kai 贝印 shun旬刀纪念套刀（旬Classic中华菜刀DM-0712+水果...</td>\n",
       "      <td>121</td>\n",
       "      <td>tmall.com</td>\n",
       "      <td>1829.0</td>\n",
       "      <td>0</td>\n",
       "    </tr>\n",
       "    <tr>\n",
       "      <th>3</th>\n",
       "      <td>美国亚马逊</td>\n",
       "      <td>2016-12-09 20:22:00</td>\n",
       "      <td>36</td>\n",
       "      <td>api</td>\n",
       "      <td>0</td>\n",
       "      <td>海淘</td>\n",
       "      <td>65</td>\n",
       "      <td>108</td>\n",
       "      <td>731</td>\n",
       "      <td>0</td>\n",
       "      <td>...</td>\n",
       "      <td>电脑数码</td>\n",
       "      <td>2017-01-22 03:41:03</td>\n",
       "      <td>http://haitao.smzdm.com/</td>\n",
       "      <td>0</td>\n",
       "      <td>3</td>\n",
       "      <td>SAMSUNG 三星 Gear Fit 2 智能手环</td>\n",
       "      <td>29</td>\n",
       "      <td>amazon.com</td>\n",
       "      <td>1037.0</td>\n",
       "      <td>0</td>\n",
       "    </tr>\n",
       "    <tr>\n",
       "      <th>4</th>\n",
       "      <td>京东</td>\n",
       "      <td>2016-12-09 19:10:00</td>\n",
       "      <td>30</td>\n",
       "      <td>api</td>\n",
       "      <td>0</td>\n",
       "      <td>国内</td>\n",
       "      <td>29</td>\n",
       "      <td>11</td>\n",
       "      <td>293</td>\n",
       "      <td>0</td>\n",
       "      <td>...</td>\n",
       "      <td>家用电器</td>\n",
       "      <td>2017-01-22 03:41:10</td>\n",
       "      <td>http://www.smzdm.com/youhui/</td>\n",
       "      <td>0</td>\n",
       "      <td>3</td>\n",
       "      <td>Delonghi 德龙 ESAM2200.S 全自动咖啡机</td>\n",
       "      <td>37</td>\n",
       "      <td>jd.com</td>\n",
       "      <td>3890.0</td>\n",
       "      <td>0</td>\n",
       "    </tr>\n",
       "  </tbody>\n",
       "</table>\n",
       "<p>5 rows × 21 columns</p>\n",
       "</div>"
      ],
      "text/plain": [
       "  article_mall    article_date_full article_worthy data_from  \\\n",
       "0           京东  2016-12-12 00:09:00            167       api   \n",
       "1           京东  2016-12-10 17:14:00             63       api   \n",
       "2         天猫精选  2016-12-10 11:44:00            409       api   \n",
       "3        美国亚马逊  2016-12-09 20:22:00             36       api   \n",
       "4           京东  2016-12-09 19:10:00             30       api   \n",
       "\n",
       "  article_is_sold_out article_channel  article_comment article_unworthy  \\\n",
       "0                   0              国内              209              624   \n",
       "1                   0              国内               96                9   \n",
       "2                   0              国内              165               10   \n",
       "3                   0              海淘               65              108   \n",
       "4                   0              国内               29               11   \n",
       "\n",
       "   article_author article_item_title_mode   ...    top_category  \\\n",
       "0             761                       0   ...            电脑数码   \n",
       "1             729                       0   ...            食品保健   \n",
       "2             870                       0   ...            日用百货   \n",
       "3             731                       0   ...            电脑数码   \n",
       "4             293                       0   ...            家用电器   \n",
       "\n",
       "           create_date           article_channel_url article_is_timeout  \\\n",
       "0  2017-01-22 03:39:55  http://www.smzdm.com/youhui/                  0   \n",
       "1  2017-01-22 03:40:37  http://www.smzdm.com/youhui/                  0   \n",
       "2  2017-01-22 03:40:50  http://www.smzdm.com/youhui/                  0   \n",
       "3  2017-01-22 03:41:03      http://haitao.smzdm.com/                  0   \n",
       "4  2017-01-22 03:41:10  http://www.smzdm.com/youhui/                  0   \n",
       "\n",
       "  article_channel_id                                      article_title  \\\n",
       "0                  3                                  MI 小米 MIX 全面屏概念手机   \n",
       "1                  3                                     明珠 熟鱼片 100g*6件   \n",
       "2                  3  双12预售：kai 贝印 shun旬刀纪念套刀（旬Classic中华菜刀DM-0712+水果...   \n",
       "3                  3                         SAMSUNG 三星 Gear Fit 2 智能手环   \n",
       "4                  3                      Delonghi 德龙 ESAM2200.S 全自动咖啡机   \n",
       "\n",
       "  article_collection  article_link_domain   price  action  \n",
       "0                 79               jd.com  3999.0       1  \n",
       "1                 62               jd.com    49.0       2  \n",
       "2                121            tmall.com  1829.0       0  \n",
       "3                 29           amazon.com  1037.0       0  \n",
       "4                 37               jd.com  3890.0       0  \n",
       "\n",
       "[5 rows x 21 columns]"
      ]
     },
     "execution_count": 7,
     "metadata": {},
     "output_type": "execute_result"
    }
   ],
   "source": [
    "raw_data.head()"
   ]
  },
  {
   "cell_type": "code",
   "execution_count": 8,
   "metadata": {
    "collapsed": false
   },
   "outputs": [
    {
     "data": {
      "text/plain": [
       "article_mall                object\n",
       "article_date_full           object\n",
       "article_worthy              object\n",
       "data_from                   object\n",
       "article_is_sold_out         object\n",
       "article_channel             object\n",
       "article_comment              int64\n",
       "article_unworthy            object\n",
       "article_author               int64\n",
       "article_item_title_mode     object\n",
       "timesort                     int64\n",
       "top_category                object\n",
       "create_date                 object\n",
       "article_channel_url         object\n",
       "article_is_timeout          object\n",
       "article_channel_id           int64\n",
       "article_title               object\n",
       "article_collection           int64\n",
       "article_link_domain         object\n",
       "price                      float64\n",
       "action                       int64\n",
       "dtype: object"
      ]
     },
     "execution_count": 8,
     "metadata": {},
     "output_type": "execute_result"
    }
   ],
   "source": [
    "raw_data.dtypes"
   ]
  },
  {
   "cell_type": "code",
   "execution_count": 9,
   "metadata": {
    "collapsed": true
   },
   "outputs": [],
   "source": [
    "raw_data[['article_worthy', 'article_is_sold_out', 'article_unworthy', 'article_item_title_mode', 'article_is_timeout']] = \\\n",
    "    raw_data[['article_worthy', 'article_is_sold_out', 'article_unworthy', 'article_item_title_mode', 'article_is_timeout']].apply(pd.to_numeric, errors='coerce')\n",
    "raw_data[['article_date_full', 'create_date']] = \\\n",
    "    raw_data[['article_date_full', 'create_date']].apply(pd.to_datetime, errors='ignore').astype(int64)"
   ]
  },
  {
   "cell_type": "code",
   "execution_count": 10,
   "metadata": {
    "collapsed": false
   },
   "outputs": [
    {
     "data": {
      "text/plain": [
       "article_mall                object\n",
       "article_date_full            int64\n",
       "article_worthy               int64\n",
       "data_from                   object\n",
       "article_is_sold_out          int64\n",
       "article_channel             object\n",
       "article_comment              int64\n",
       "article_unworthy             int64\n",
       "article_author               int64\n",
       "article_item_title_mode      int64\n",
       "timesort                     int64\n",
       "top_category                object\n",
       "create_date                  int64\n",
       "article_channel_url         object\n",
       "article_is_timeout           int64\n",
       "article_channel_id           int64\n",
       "article_title               object\n",
       "article_collection           int64\n",
       "article_link_domain         object\n",
       "price                      float64\n",
       "action                       int64\n",
       "dtype: object"
      ]
     },
     "execution_count": 10,
     "metadata": {},
     "output_type": "execute_result"
    }
   ],
   "source": [
    "raw_data.dtypes"
   ]
  },
  {
   "cell_type": "markdown",
   "metadata": {},
   "source": [
    "## deal with label data"
   ]
  },
  {
   "cell_type": "code",
   "execution_count": 11,
   "metadata": {
    "collapsed": false
   },
   "outputs": [
    {
     "data": {
      "text/html": [
       "<div>\n",
       "<style>\n",
       "    .dataframe thead tr:only-child th {\n",
       "        text-align: right;\n",
       "    }\n",
       "\n",
       "    .dataframe thead th {\n",
       "        text-align: left;\n",
       "    }\n",
       "\n",
       "    .dataframe tbody tr th {\n",
       "        vertical-align: top;\n",
       "    }\n",
       "</style>\n",
       "<table border=\"1\" class=\"dataframe\">\n",
       "  <thead>\n",
       "    <tr style=\"text-align: right;\">\n",
       "      <th></th>\n",
       "      <th>article_mall</th>\n",
       "    </tr>\n",
       "  </thead>\n",
       "  <tbody>\n",
       "    <tr>\n",
       "      <th>count</th>\n",
       "      <td>265</td>\n",
       "    </tr>\n",
       "    <tr>\n",
       "      <th>unique</th>\n",
       "      <td>44</td>\n",
       "    </tr>\n",
       "    <tr>\n",
       "      <th>top</th>\n",
       "      <td>京东</td>\n",
       "    </tr>\n",
       "    <tr>\n",
       "      <th>freq</th>\n",
       "      <td>113</td>\n",
       "    </tr>\n",
       "  </tbody>\n",
       "</table>\n",
       "</div>"
      ],
      "text/plain": [
       "       article_mall\n",
       "count           265\n",
       "unique           44\n",
       "top              京东\n",
       "freq            113"
      ]
     },
     "execution_count": 11,
     "metadata": {},
     "output_type": "execute_result"
    }
   ],
   "source": [
    "raw_data[['article_mall']].describe()"
   ]
  },
  {
   "cell_type": "code",
   "execution_count": 12,
   "metadata": {
    "collapsed": false
   },
   "outputs": [
    {
     "data": {
      "text/plain": [
       "0      39\n",
       "1      39\n",
       "2      17\n",
       "3      24\n",
       "4      39\n",
       "5      39\n",
       "6      39\n",
       "7      32\n",
       "8       5\n",
       "9      39\n",
       "10     39\n",
       "11     19\n",
       "12     39\n",
       "13     39\n",
       "14     39\n",
       "15     39\n",
       "16     39\n",
       "17     17\n",
       "18     17\n",
       "19     17\n",
       "20     17\n",
       "21     17\n",
       "22     17\n",
       "23     39\n",
       "24     39\n",
       "25     17\n",
       "26     39\n",
       "27     39\n",
       "28     41\n",
       "29     14\n",
       "       ..\n",
       "235    39\n",
       "236    25\n",
       "237    14\n",
       "238    25\n",
       "239    39\n",
       "240    25\n",
       "241    25\n",
       "242    39\n",
       "243    39\n",
       "244    39\n",
       "245    39\n",
       "246    22\n",
       "247    39\n",
       "248     8\n",
       "249    39\n",
       "250    39\n",
       "251    39\n",
       "252    39\n",
       "253    39\n",
       "254    15\n",
       "255    24\n",
       "256     0\n",
       "257    39\n",
       "258    25\n",
       "259    25\n",
       "260    39\n",
       "261    43\n",
       "262    32\n",
       "263    36\n",
       "264    39\n",
       "Name: article_mall, Length: 265, dtype: int64"
      ]
     },
     "execution_count": 12,
     "metadata": {},
     "output_type": "execute_result"
    }
   ],
   "source": [
    "def array2dict(arr):\n",
    "    return {item: index for index, item in enumerate(set(arr.reshape((len(arr),))))}\n",
    "\n",
    "converted = raw_data['article_mall'].replace(to_replace=array2dict(raw_data[['article_mall']].values), inplace=False)\n",
    "converted"
   ]
  },
  {
   "cell_type": "code",
   "execution_count": 13,
   "metadata": {
    "collapsed": false
   },
   "outputs": [
    {
     "data": {
      "text/plain": [
       "count    265.000000\n",
       "mean      29.320755\n",
       "std       11.266358\n",
       "min        0.000000\n",
       "25%       18.000000\n",
       "50%       36.000000\n",
       "75%       39.000000\n",
       "max       43.000000\n",
       "Name: article_mall, dtype: float64"
      ]
     },
     "execution_count": 13,
     "metadata": {},
     "output_type": "execute_result"
    }
   ],
   "source": [
    "converted.describe()"
   ]
  },
  {
   "cell_type": "code",
   "execution_count": 14,
   "metadata": {
    "collapsed": false
   },
   "outputs": [
    {
     "data": {
      "text/plain": [
       "article_mall                 int64\n",
       "article_date_full            int64\n",
       "article_worthy               int64\n",
       "data_from                    int64\n",
       "article_is_sold_out          int64\n",
       "article_channel              int64\n",
       "article_comment              int64\n",
       "article_unworthy             int64\n",
       "article_author               int64\n",
       "article_item_title_mode      int64\n",
       "timesort                     int64\n",
       "top_category                 int64\n",
       "create_date                  int64\n",
       "article_channel_url          int64\n",
       "article_is_timeout           int64\n",
       "article_channel_id           int64\n",
       "article_title               object\n",
       "article_collection           int64\n",
       "article_link_domain          int64\n",
       "price                      float64\n",
       "action                       int64\n",
       "dtype: object"
      ]
     },
     "execution_count": 14,
     "metadata": {},
     "output_type": "execute_result"
    }
   ],
   "source": [
    "from sklearn.preprocessing import LabelEncoder\n",
    "encoder = LabelEncoder()\n",
    "raw_data['article_mall'] = encoder.fit_transform(raw_data['article_mall'].astype(str))\n",
    "raw_data['article_link_domain'] = encoder.fit_transform(raw_data['article_link_domain'])\n",
    "raw_data['top_category'] = encoder.fit_transform(raw_data['top_category'])\n",
    "raw_data['article_channel'] = encoder.fit_transform(raw_data['article_channel'])\n",
    "raw_data['data_from'] = encoder.fit_transform(raw_data['data_from'])\n",
    "raw_data['article_channel_url'] = encoder.fit_transform(raw_data['article_channel_url'])\n",
    "\n",
    "raw_data.dtypes"
   ]
  },
  {
   "cell_type": "code",
   "execution_count": 15,
   "metadata": {
    "collapsed": false
   },
   "outputs": [
    {
     "data": {
      "text/plain": [
       "0      1485056395000000000\n",
       "1      1485056437000000000\n",
       "2      1485056450000000000\n",
       "3      1485056463000000000\n",
       "4      1485056470000000000\n",
       "5      1485057006000000000\n",
       "6      1485057089000000000\n",
       "7      1485057089000000000\n",
       "8      1485057089000000000\n",
       "9      1485057115000000000\n",
       "10     1485057182000000000\n",
       "11     1485057206000000000\n",
       "12     1485057309000000000\n",
       "13     1485058429000000000\n",
       "14     1485058429000000000\n",
       "15     1485058429000000000\n",
       "16     1485058429000000000\n",
       "17     1485058442000000000\n",
       "18     1485058502000000000\n",
       "19     1485058523000000000\n",
       "20     1485058542000000000\n",
       "21     1485058681000000000\n",
       "22     1485058684000000000\n",
       "23     1485058686000000000\n",
       "24     1485058690000000000\n",
       "25     1485058698000000000\n",
       "26     1485058705000000000\n",
       "27     1485058705000000000\n",
       "28     1485223885000000000\n",
       "29     1486204983000000000\n",
       "              ...         \n",
       "235    1486465573000000000\n",
       "236    1486465578000000000\n",
       "237    1486465583000000000\n",
       "238    1486465595000000000\n",
       "239    1486465603000000000\n",
       "240    1486465610000000000\n",
       "241    1486465612000000000\n",
       "242    1486465619000000000\n",
       "243    1486465628000000000\n",
       "244    1486465641000000000\n",
       "245    1486465644000000000\n",
       "246    1486465646000000000\n",
       "247    1486465651000000000\n",
       "248    1486465663000000000\n",
       "249    1486465663000000000\n",
       "250    1486465664000000000\n",
       "251    1486465671000000000\n",
       "252    1486465693000000000\n",
       "253    1486465696000000000\n",
       "254    1487210944000000000\n",
       "255    1487230488000000000\n",
       "256    1487236629000000000\n",
       "257    1487590509000000000\n",
       "258    1487590557000000000\n",
       "259    1487590615000000000\n",
       "260    1487590817000000000\n",
       "261    1487590822000000000\n",
       "262    1495182945000000000\n",
       "263    1495182976000000000\n",
       "264    1495183005000000000\n",
       "Name: create_date, Length: 265, dtype: int64"
      ]
     },
     "execution_count": 15,
     "metadata": {},
     "output_type": "execute_result"
    }
   ],
   "source": [
    "raw_data['create_date']"
   ]
  },
  {
   "cell_type": "code",
   "execution_count": 16,
   "metadata": {
    "collapsed": false
   },
   "outputs": [
    {
     "name": "stderr",
     "output_type": "stream",
     "text": [
      "/Users/dd/anaconda/lib/python3.6/site-packages/sklearn/utils/validation.py:429: DataConversionWarning: Data with input dtype int64 was converted to float64 by StandardScaler.\n",
      "  warnings.warn(msg, _DataConversionWarning)\n"
     ]
    }
   ],
   "source": [
    "from sklearn.preprocessing import StandardScaler\n",
    "raw_data['article_date_full'] = StandardScaler().fit_transform(raw_data['article_date_full'].values.reshape(-1, 1))\n",
    "raw_data['create_date'] = StandardScaler().fit_transform(raw_data['create_date'].values.reshape(-1, 1))\n",
    "raw_data['timesort'] = StandardScaler().fit_transform(raw_data['timesort'].values.reshape(-1, 1))"
   ]
  },
  {
   "cell_type": "code",
   "execution_count": 17,
   "metadata": {
    "collapsed": false
   },
   "outputs": [
    {
     "data": {
      "text/plain": [
       "0     -1.312100\n",
       "1     -1.312060\n",
       "2     -1.312048\n",
       "3     -1.312035\n",
       "4     -1.312029\n",
       "5     -1.311519\n",
       "6     -1.311440\n",
       "7     -1.311440\n",
       "8     -1.311440\n",
       "9     -1.311415\n",
       "10    -1.311351\n",
       "11    -1.311329\n",
       "12    -1.311231\n",
       "13    -1.310166\n",
       "14    -1.310166\n",
       "15    -1.310166\n",
       "16    -1.310166\n",
       "17    -1.310153\n",
       "18    -1.310096\n",
       "19    -1.310076\n",
       "20    -1.310058\n",
       "21    -1.309926\n",
       "22    -1.309923\n",
       "23    -1.309921\n",
       "24    -1.309918\n",
       "25    -1.309910\n",
       "26    -1.309903\n",
       "27    -1.309903\n",
       "28    -1.152832\n",
       "29    -0.219898\n",
       "         ...   \n",
       "235    0.027899\n",
       "236    0.027904\n",
       "237    0.027909\n",
       "238    0.027920\n",
       "239    0.027928\n",
       "240    0.027935\n",
       "241    0.027936\n",
       "242    0.027943\n",
       "243    0.027952\n",
       "244    0.027964\n",
       "245    0.027967\n",
       "246    0.027969\n",
       "247    0.027974\n",
       "248    0.027985\n",
       "249    0.027985\n",
       "250    0.027986\n",
       "251    0.027993\n",
       "252    0.028013\n",
       "253    0.028016\n",
       "254    0.736679\n",
       "255    0.755263\n",
       "256    0.761103\n",
       "257    1.097610\n",
       "258    1.097656\n",
       "259    1.097711\n",
       "260    1.097903\n",
       "261    1.097908\n",
       "262    8.317322\n",
       "263    8.317351\n",
       "264    8.317379\n",
       "Name: create_date, Length: 265, dtype: float64"
      ]
     },
     "execution_count": 17,
     "metadata": {},
     "output_type": "execute_result"
    }
   ],
   "source": [
    "raw_data['create_date']"
   ]
  },
  {
   "cell_type": "code",
   "execution_count": 18,
   "metadata": {
    "collapsed": false
   },
   "outputs": [
    {
     "data": {
      "text/html": [
       "<div>\n",
       "<style>\n",
       "    .dataframe thead tr:only-child th {\n",
       "        text-align: right;\n",
       "    }\n",
       "\n",
       "    .dataframe thead th {\n",
       "        text-align: left;\n",
       "    }\n",
       "\n",
       "    .dataframe tbody tr th {\n",
       "        vertical-align: top;\n",
       "    }\n",
       "</style>\n",
       "<table border=\"1\" class=\"dataframe\">\n",
       "  <thead>\n",
       "    <tr style=\"text-align: right;\">\n",
       "      <th></th>\n",
       "      <th>article_mall</th>\n",
       "      <th>article_date_full</th>\n",
       "      <th>article_worthy</th>\n",
       "      <th>data_from</th>\n",
       "      <th>article_is_sold_out</th>\n",
       "      <th>article_channel</th>\n",
       "      <th>article_comment</th>\n",
       "      <th>article_unworthy</th>\n",
       "      <th>article_author</th>\n",
       "      <th>article_item_title_mode</th>\n",
       "      <th>...</th>\n",
       "      <th>top_category</th>\n",
       "      <th>create_date</th>\n",
       "      <th>article_channel_url</th>\n",
       "      <th>article_is_timeout</th>\n",
       "      <th>article_channel_id</th>\n",
       "      <th>article_title</th>\n",
       "      <th>article_collection</th>\n",
       "      <th>article_link_domain</th>\n",
       "      <th>price</th>\n",
       "      <th>action</th>\n",
       "    </tr>\n",
       "  </thead>\n",
       "  <tbody>\n",
       "    <tr>\n",
       "      <th>0</th>\n",
       "      <td>18</td>\n",
       "      <td>1.243789</td>\n",
       "      <td>167</td>\n",
       "      <td>0</td>\n",
       "      <td>0</td>\n",
       "      <td>0</td>\n",
       "      <td>209</td>\n",
       "      <td>624</td>\n",
       "      <td>761</td>\n",
       "      <td>0</td>\n",
       "      <td>...</td>\n",
       "      <td>9</td>\n",
       "      <td>-1.312100</td>\n",
       "      <td>3</td>\n",
       "      <td>0</td>\n",
       "      <td>3</td>\n",
       "      <td>MI 小米 MIX 全面屏概念手机</td>\n",
       "      <td>79</td>\n",
       "      <td>18</td>\n",
       "      <td>3999.0</td>\n",
       "      <td>1</td>\n",
       "    </tr>\n",
       "    <tr>\n",
       "      <th>1</th>\n",
       "      <td>18</td>\n",
       "      <td>1.229111</td>\n",
       "      <td>63</td>\n",
       "      <td>0</td>\n",
       "      <td>0</td>\n",
       "      <td>0</td>\n",
       "      <td>96</td>\n",
       "      <td>9</td>\n",
       "      <td>729</td>\n",
       "      <td>0</td>\n",
       "      <td>...</td>\n",
       "      <td>13</td>\n",
       "      <td>-1.312060</td>\n",
       "      <td>3</td>\n",
       "      <td>0</td>\n",
       "      <td>3</td>\n",
       "      <td>明珠 熟鱼片 100g*6件</td>\n",
       "      <td>62</td>\n",
       "      <td>18</td>\n",
       "      <td>49.0</td>\n",
       "      <td>2</td>\n",
       "    </tr>\n",
       "    <tr>\n",
       "      <th>2</th>\n",
       "      <td>23</td>\n",
       "      <td>1.226500</td>\n",
       "      <td>409</td>\n",
       "      <td>0</td>\n",
       "      <td>0</td>\n",
       "      <td>0</td>\n",
       "      <td>165</td>\n",
       "      <td>10</td>\n",
       "      <td>870</td>\n",
       "      <td>0</td>\n",
       "      <td>...</td>\n",
       "      <td>4</td>\n",
       "      <td>-1.312048</td>\n",
       "      <td>3</td>\n",
       "      <td>0</td>\n",
       "      <td>3</td>\n",
       "      <td>双12预售：kai 贝印 shun旬刀纪念套刀（旬Classic中华菜刀DM-0712+水果...</td>\n",
       "      <td>121</td>\n",
       "      <td>36</td>\n",
       "      <td>1829.0</td>\n",
       "      <td>0</td>\n",
       "    </tr>\n",
       "    <tr>\n",
       "      <th>3</th>\n",
       "      <td>32</td>\n",
       "      <td>1.219204</td>\n",
       "      <td>36</td>\n",
       "      <td>0</td>\n",
       "      <td>0</td>\n",
       "      <td>1</td>\n",
       "      <td>65</td>\n",
       "      <td>108</td>\n",
       "      <td>731</td>\n",
       "      <td>0</td>\n",
       "      <td>...</td>\n",
       "      <td>9</td>\n",
       "      <td>-1.312035</td>\n",
       "      <td>0</td>\n",
       "      <td>0</td>\n",
       "      <td>3</td>\n",
       "      <td>SAMSUNG 三星 Gear Fit 2 智能手环</td>\n",
       "      <td>29</td>\n",
       "      <td>5</td>\n",
       "      <td>1037.0</td>\n",
       "      <td>0</td>\n",
       "    </tr>\n",
       "    <tr>\n",
       "      <th>4</th>\n",
       "      <td>18</td>\n",
       "      <td>1.218635</td>\n",
       "      <td>30</td>\n",
       "      <td>0</td>\n",
       "      <td>0</td>\n",
       "      <td>0</td>\n",
       "      <td>29</td>\n",
       "      <td>11</td>\n",
       "      <td>293</td>\n",
       "      <td>0</td>\n",
       "      <td>...</td>\n",
       "      <td>3</td>\n",
       "      <td>-1.312029</td>\n",
       "      <td>3</td>\n",
       "      <td>0</td>\n",
       "      <td>3</td>\n",
       "      <td>Delonghi 德龙 ESAM2200.S 全自动咖啡机</td>\n",
       "      <td>37</td>\n",
       "      <td>18</td>\n",
       "      <td>3890.0</td>\n",
       "      <td>0</td>\n",
       "    </tr>\n",
       "  </tbody>\n",
       "</table>\n",
       "<p>5 rows × 21 columns</p>\n",
       "</div>"
      ],
      "text/plain": [
       "   article_mall  article_date_full  article_worthy  data_from  \\\n",
       "0            18           1.243789             167          0   \n",
       "1            18           1.229111              63          0   \n",
       "2            23           1.226500             409          0   \n",
       "3            32           1.219204              36          0   \n",
       "4            18           1.218635              30          0   \n",
       "\n",
       "   article_is_sold_out  article_channel  article_comment  article_unworthy  \\\n",
       "0                    0                0              209               624   \n",
       "1                    0                0               96                 9   \n",
       "2                    0                0              165                10   \n",
       "3                    0                1               65               108   \n",
       "4                    0                0               29                11   \n",
       "\n",
       "   article_author  article_item_title_mode   ...    top_category  create_date  \\\n",
       "0             761                        0   ...               9    -1.312100   \n",
       "1             729                        0   ...              13    -1.312060   \n",
       "2             870                        0   ...               4    -1.312048   \n",
       "3             731                        0   ...               9    -1.312035   \n",
       "4             293                        0   ...               3    -1.312029   \n",
       "\n",
       "   article_channel_url  article_is_timeout  article_channel_id  \\\n",
       "0                    3                   0                   3   \n",
       "1                    3                   0                   3   \n",
       "2                    3                   0                   3   \n",
       "3                    0                   0                   3   \n",
       "4                    3                   0                   3   \n",
       "\n",
       "                                       article_title article_collection  \\\n",
       "0                                  MI 小米 MIX 全面屏概念手机                 79   \n",
       "1                                     明珠 熟鱼片 100g*6件                 62   \n",
       "2  双12预售：kai 贝印 shun旬刀纪念套刀（旬Classic中华菜刀DM-0712+水果...                121   \n",
       "3                         SAMSUNG 三星 Gear Fit 2 智能手环                 29   \n",
       "4                      Delonghi 德龙 ESAM2200.S 全自动咖啡机                 37   \n",
       "\n",
       "   article_link_domain   price  action  \n",
       "0                   18  3999.0       1  \n",
       "1                   18    49.0       2  \n",
       "2                   36  1829.0       0  \n",
       "3                    5  1037.0       0  \n",
       "4                   18  3890.0       0  \n",
       "\n",
       "[5 rows x 21 columns]"
      ]
     },
     "execution_count": 18,
     "metadata": {},
     "output_type": "execute_result"
    }
   ],
   "source": [
    "raw_data.head()"
   ]
  },
  {
   "cell_type": "markdown",
   "metadata": {},
   "source": [
    "## deal with text"
   ]
  },
  {
   "cell_type": "code",
   "execution_count": 19,
   "metadata": {
    "collapsed": false
   },
   "outputs": [
    {
     "name": "stdout",
     "output_type": "stream",
     "text": [
      "160\n",
      "word vector:  0点开抢 100g 12盒 12罐 13 15 1528b 16mm动圈 16袋 1l 26g 2件 30 3件 4g 4件 4包 500g 5200u 5件 600g 6件 6天4晚自由行 6英寸笔记本电脑 80g 85g a2 akg alpha aoc apple ath audio barbie benq calvin cheers dell ex1000 flexi gsc gt920m ha happy100 herman i5 ie80 ie800 ins15er jvc kansoon klein macbook mdr mi microsoft miller mix mp3播放器 new nissin nw one parrot pass pha philips playstation pro samsung seagate sennheiser sm sony srs technica tumi um uniqlo vr wanpy westone x77 xba xbox zik zx100 三单元圈铁结合 三星 中亚prime会员 主动降噪 乐事 九日 京东 京东直采 今日必领 优惠券 优惠券码 优衣库 便携式 促销活动 值友专享 入耳式耳机 全品类 全品类优惠券 全脂牛奶 全面屏概念手机 冠捷 凑单品 凯速 历史低价 历史新低 原味 双11预告 四川新鲜脐橙 固态硬盘 多色可选 头戴式耳机 头戴式蓝牙耳机 威士顿 小米 希捷 往返含税机票 微软 戴尔 新低价 新品预售 新品首降 明基 机械键盘 杰伟世 森海塞尔 爱科技 特价机票 猫用鲜封包 白色 福莱希 移动硬盘 移动端 移动端限地区 签证 系列 索尼 纸尿裤 耳塞式耳机 耳机放大器 自由行 芝华仕 芭比 苹果 蓝牙音箱 赫曼米勒 超宽频动圈 铁三角 限地区 顽皮 预售 飞利浦 香辣味 黑色\n"
     ]
    }
   ],
   "source": [
    "from sklearn.feature_extraction.text import CountVectorizer\n",
    "vect = CountVectorizer(min_df=2)\n",
    "vect.fit(raw_data['article_title'])\n",
    "print(len(vect.get_feature_names()))\n",
    "print('word vector: ', \" \".join(vect.get_feature_names()))"
   ]
  },
  {
   "cell_type": "code",
   "execution_count": 20,
   "metadata": {
    "collapsed": false
   },
   "outputs": [
    {
     "name": "stderr",
     "output_type": "stream",
     "text": [
      "Building prefix dict from the default dictionary ...\n",
      "Dumping model to file cache /var/folders/6x/t2y8lh8n6r18khnl039tn8880000gn/T/jieba.cache\n",
      "Loading model cost 1.102 seconds.\n",
      "Prefix dict has been built succesfully.\n"
     ]
    },
    {
     "name": "stdout",
     "output_type": "stream",
     "text": [
      "274\n",
      "word vector with jieba:  10 100g 11 12 13 15 150g 1528b 16 16mm 170g 1l 26g 27 28 30 32 40 4g 4k 50 500g 5200u 600g 80g 85g a2 akg alpha aoc apple ath audio barbie benq calvin cheers classic dell ex1000 flexi gsc gt920m ha happy100 herman hifi i5 ie80 ie800 ins15er jvc kansoon klein macbook mdr mi microsoft miller mix mp3 new nissin nw one parrot pass pha philips playstation prime pro samsung seagate sennheiser sm sony srs technica tumi um uniqlo vr wanpy westone x77 xba xbox zik zx100 三星 上海 专享 专场 专用 中亚 主动 乐事 九日 京东 亲亲 人体工学 今日 优惠券 优衣库 会员 低价 便携式 促销 值友 健适宝 儿童 入耳式 全脂 全自动 全面 冠捷 冲牙器 凯速 初级 剃须刀 加州 动圈 动铁 北京 单元 单品 单肩 历史 原味 双向 双肩 双边 口味 可选 含税 吸奶器 品类 四川 固态 圈铁 地区 复合 外套 多色 头戴式 头等舱 套装 女士 女款 奶粉 威士顿 娃娃 婴儿 孕妇 完成 宽频 封包 小米 巧克力 希捷 座椅 开始 开心果 开放式 往返 微信 微软 必领 戴尔 手办 手机 手柄 控制器 播放器 支架 放大器 数码 斜挎包 新低 新品 新鲜 方便面 无损 无线 日本 明基 显示器 晚含 智能 曲奇 机械 机票 杰伟世 森海塞尔 概念 沐浴露 沙发 活动 海苔 涂装 液晶 点开 烧烤 牛奶 特价 特价机票 猫咪 猫用 电动 电子 电源 男士 男款 白条 白色 直采 真皮 硬盘 礼包 科技 移动 移动硬盘 端限 笔记本电脑 签证 米勒 系列 索尼 纸尿裤 结合 罐头 耳塞式 耳机 背包 脐橙 自由 自营 芝华仕 芝士 芭比 英寸 苹果 莱希 蓝牙 薄荷 薯片 虚拟现实 虾条 蛋糕 蜂蜜 赫曼 辣味 连帽 酒店 酱牛肉 钱包 钻石 铁三角 键盘 降噪 限定版 音箱 顽皮 预告 预售 风味 飞利浦 食品 饮料 首降 香草 黄油 黑色\n"
     ]
    }
   ],
   "source": [
    "import jieba\n",
    "raw_data[['article_title']] = raw_data[['article_title']].applymap(lambda words: \" \".join(jieba.cut(words)))\n",
    "vect.fit(raw_data['article_title'])\n",
    "print(len(vect.get_feature_names()))\n",
    "print('word vector with jieba: ', \" \".join(vect.get_feature_names()))"
   ]
  },
  {
   "cell_type": "code",
   "execution_count": 21,
   "metadata": {
    "collapsed": false
   },
   "outputs": [],
   "source": [
    "title_feature_matrix = vect.transform(raw_data['article_title']).toarray()"
   ]
  },
  {
   "cell_type": "code",
   "execution_count": 22,
   "metadata": {
    "collapsed": false
   },
   "outputs": [
    {
     "data": {
      "image/png": "[encoded data removed]",
      "text/plain": [
       "<matplotlib.figure.Figure at 0x11114fdd8>"
      ]
     },
     "metadata": {},
     "output_type": "display_data"
    }
   ],
   "source": [
    "sb.heatmap(raw_data.corr(), linewidths=0.25, vmax=1.0, square=True, cmap=\"YlGnBu\", linecolor='black', annot=False)\n",
    "sb.plt.show()"
   ]
  },
  {
   "cell_type": "code",
   "execution_count": 23,
   "metadata": {
    "collapsed": true
   },
   "outputs": [],
   "source": [
    "raw_data.drop(labels=['article_item_title_mode'], axis=1, inplace=True)"
   ]
  },
  {
   "cell_type": "code",
   "execution_count": 24,
   "metadata": {
    "collapsed": false
   },
   "outputs": [
    {
     "data": {
      "image/png": "[encoded data removed]",
      "text/plain": [
       "<matplotlib.figure.Figure at 0x119c27780>"
      ]
     },
     "metadata": {},
     "output_type": "display_data"
    }
   ],
   "source": [
    "sb.heatmap(raw_data.corr(), linewidths=0.25, vmax=1.0, square=True, cmap=\"YlGnBu\", linecolor='black', annot=False)\n",
    "sb.plt.show()"
   ]
  },
  {
   "cell_type": "code",
   "execution_count": 25,
   "metadata": {
    "collapsed": false
   },
   "outputs": [
    {
     "data": {
      "image/png": "[encoded data removed]",
      "text/plain": [
       "<matplotlib.figure.Figure at 0x119e5c5c0>"
      ]
     },
     "metadata": {},
     "output_type": "display_data"
    }
   ],
   "source": [
    "sb.pairplot(data=raw_data, vars=['article_worthy','article_unworthy','article_is_sold_out'], hue='action', palette='Dark2', diag_kind='kde', size=2, dropna=True)\n",
    "sb.plt.show()"
   ]
  },
  {
   "cell_type": "code",
   "execution_count": 26,
   "metadata": {
    "collapsed": false
   },
   "outputs": [
    {
     "name": "stdout",
     "output_type": "stream",
     "text": [
      "(265, 292) (265, 1)\n"
     ]
    }
   ],
   "source": [
    "feature_matrix = raw_data.drop(['article_title', 'action'], axis=1)\n",
    "\n",
    "sample_data = hstack((feature_matrix, title_feature_matrix))\n",
    "sample_target = raw_data[['action']].as_matrix()\n",
    "print(sample_data.shape, sample_target.shape)"
   ]
  },
  {
   "cell_type": "markdown",
   "metadata": {},
   "source": [
    "## build model"
   ]
  },
  {
   "cell_type": "code",
   "execution_count": 27,
   "metadata": {
    "collapsed": true
   },
   "outputs": [],
   "source": [
    "from sklearn.model_selection import train_test_split, cross_val_score\n",
    "from sklearn.linear_model import LogisticRegression\n",
    "from sklearn.ensemble import GradientBoostingClassifier\n",
    "from sklearn.ensemble import AdaBoostClassifier\n",
    "from sklearn.naive_bayes import GaussianNB\n",
    "from sklearn.svm import SVC\n",
    "from sklearn.tree import DecisionTreeClassifier"
   ]
  },
  {
   "cell_type": "code",
   "execution_count": 28,
   "metadata": {
    "collapsed": false
   },
   "outputs": [
    {
     "name": "stdout",
     "output_type": "stream",
     "text": [
      "acc:  0.925925925926\n"
     ]
    },
    {
     "name": "stderr",
     "output_type": "stream",
     "text": [
      "/Users/dd/anaconda/lib/python3.6/site-packages/sklearn/utils/validation.py:526: DataConversionWarning: A column-vector y was passed when a 1d array was expected. Please change the shape of y to (n_samples, ), for example using ravel().\n",
      "  y = column_or_1d(y, warn=True)\n"
     ]
    }
   ],
   "source": [
    "X_train, X_test, y_train, y_test = train_test_split(sample_data, sample_target, test_size=0.1, random_state=1)\n",
    "# print X_train.shape, y_train.shape, X_test.shape, y_test.shape\n",
    "clf = LogisticRegression()\n",
    "clf.fit(X_train, y_train)\n",
    "pred = clf.predict(X_test)\n",
    "from sklearn.metrics import accuracy_score, confusion_matrix\n",
    "print('acc: ', accuracy_score(y_test, pred))"
   ]
  },
  {
   "cell_type": "code",
   "execution_count": 29,
   "metadata": {
    "collapsed": false
   },
   "outputs": [
    {
     "name": "stdout",
     "output_type": "stream",
     "text": [
      "cv score:  0.767513227513\n"
     ]
    }
   ],
   "source": [
    "clf = LogisticRegression()\n",
    "print('cv score: ', cross_val_score(clf, sample_data, sample_target.reshape((-1,)), cv=10).mean())"
   ]
  },
  {
   "cell_type": "code",
   "execution_count": 30,
   "metadata": {
    "collapsed": false
   },
   "outputs": [
    {
     "name": "stdout",
     "output_type": "stream",
     "text": [
      "cv score:  0.63944973545\n"
     ]
    }
   ],
   "source": [
    "clf = DecisionTreeClassifier(min_samples_split=15)\n",
    "print('cv score: ', cross_val_score(clf, sample_data, sample_target.reshape((-1,)), cv=10).mean())"
   ]
  },
  {
   "cell_type": "code",
   "execution_count": 31,
   "metadata": {
    "collapsed": false
   },
   "outputs": [
    {
     "name": "stdout",
     "output_type": "stream",
     "text": [
      "cv score:  0.668285714286\n"
     ]
    }
   ],
   "source": [
    "clf = SVC(kernel='rbf')\n",
    "print('cv score: ', cross_val_score(clf, sample_data, sample_target.reshape((-1,)), cv=10).mean())"
   ]
  },
  {
   "cell_type": "code",
   "execution_count": 32,
   "metadata": {
    "collapsed": false
   },
   "outputs": [
    {
     "name": "stdout",
     "output_type": "stream",
     "text": [
      "cv score:  0.505571428571\n"
     ]
    }
   ],
   "source": [
    "clf = GaussianNB()\n",
    "print('cv score: ', cross_val_score(clf, sample_data, sample_target.reshape((-1,)), cv=10).mean())"
   ]
  },
  {
   "cell_type": "code",
   "execution_count": 33,
   "metadata": {
    "collapsed": false
   },
   "outputs": [
    {
     "name": "stdout",
     "output_type": "stream",
     "text": [
      "cv score:  0.704687830688\n"
     ]
    }
   ],
   "source": [
    "clf = AdaBoostClassifier(n_estimators=15, learning_rate=0.5)\n",
    "print('cv score: ', cross_val_score(clf, sample_data, sample_target.reshape((-1,)), cv=10).mean())"
   ]
  },
  {
   "cell_type": "code",
   "execution_count": 34,
   "metadata": {
    "collapsed": false
   },
   "outputs": [
    {
     "name": "stdout",
     "output_type": "stream",
     "text": [
      "cv score:  0.721158730159\n"
     ]
    }
   ],
   "source": [
    "clf = GradientBoostingClassifier(n_estimators=15, learning_rate=0.5)\n",
    "print('cv score: ', cross_val_score(clf, sample_data, sample_target.reshape((-1,)), cv=10).mean())"
   ]
  },
  {
   "cell_type": "code",
   "execution_count": 37,
   "metadata": {
    "collapsed": false
   },
   "outputs": [
    {
     "name": "stdout",
     "output_type": "stream",
     "text": [
      "search time:  11.081869125366211\n",
      "0.743396226415\n",
      "AdaBoostClassifier(algorithm='SAMME.R', base_estimator=None,\n",
      "          learning_rate=0.80000000000000004, n_estimators=7,\n",
      "          random_state=None)\n"
     ]
    }
   ],
   "source": [
    "from sklearn.model_selection import RandomizedSearchCV\n",
    "search_param = {'n_estimators': arange(1, 50, 1), 'learning_rate': arange(0.1, 10, 0.1)}\n",
    "t_start = time()\n",
    "clf = RandomizedSearchCV(AdaBoostClassifier(), search_param, cv=10, scoring='accuracy', n_iter=50, random_state=1, n_jobs=-1)\n",
    "clf.fit(sample_data, sample_target.reshape(len(sample_target),))\n",
    "print('search time: ', (time() - t_start))\n",
    "print(clf.best_score_)\n",
    "print(clf.best_estimator_)"
   ]
  },
  {
   "cell_type": "code",
   "execution_count": 36,
   "metadata": {
    "collapsed": false
   },
   "outputs": [
    {
     "name": "stdout",
     "output_type": "stream",
     "text": [
      "search time:  139.33393597602844\n",
      "0.784905660377\n",
      "GradientBoostingClassifier(criterion='friedman_mse', init=None,\n",
      "              learning_rate=0.1, loss='deviance', max_depth=5,\n",
      "              max_features=None, max_leaf_nodes=None,\n",
      "              min_impurity_split=1e-07, min_samples_leaf=1,\n",
      "              min_samples_split=2, min_weight_fraction_leaf=0.0,\n",
      "              n_estimators=20, presort='auto', random_state=None,\n",
      "              subsample=1.0, verbose=0, warm_start=False)\n"
     ]
    }
   ],
   "source": [
    "t_start = time()\n",
    "search_param = {'n_estimators': range(1, 150, 1),\n",
    "                'max_depth': [5], # range(1, 25, 1), 'min_samples_split': range(5, 50, 1),\n",
    "                # 'min_samples_split': range(10, 50, 1), 'min_samples_leaf': range(10, 50, 1),\n",
    "                # 'max_features': range(5, 50, 1),\n",
    "                # 'learning_rate': arange(0.1, 10, 0.1)\n",
    "                }\n",
    "clf = RandomizedSearchCV(GradientBoostingClassifier(), search_param, cv=10, scoring='accuracy', n_iter=50, random_state=1, n_jobs=-1)\n",
    "clf.fit(sample_data, sample_target.reshape(len(sample_target),))\n",
    "print('search time: ', (time() - t_start))\n",
    "print(clf.best_score_)\n",
    "print(clf.best_estimator_)"
   ]
  },
  {
   "cell_type": "code",
   "execution_count": null,
   "metadata": {
    "collapsed": true
   },
   "outputs": [],
   "source": []
  }
 ],
 "metadata": {
  "kernelspec": {
   "display_name": "Python 3",
   "language": "python",
   "name": "python3"
  },
  "language_info": {
   "codemirror_mode": {
    "name": "ipython",
    "version": 3
   },
   "file_extension": ".py",
   "mimetype": "text/x-python",
   "name": "python",
   "nbconvert_exporter": "python",
   "pygments_lexer": "ipython3",
   "version": "3.6.0"
  }
 },
 "nbformat": 4,
 "nbformat_minor": 0
}
